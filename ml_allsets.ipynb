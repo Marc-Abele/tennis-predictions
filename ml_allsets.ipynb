{
 "cells": [
  {
   "cell_type": "code",
   "execution_count": 26,
   "metadata": {},
   "outputs": [],
   "source": [
    "import pandas as pd, numpy as np, seaborn as sns\n",
    "import matplotlib.pyplot as plt\n",
    "import pickle\n",
    "import warnings\n",
    "warnings.filterwarnings('ignore')\n",
    "\n",
    "from sklearn.model_selection import train_test_split, GridSearchCV\n",
    "\n",
    "from sklearn.pipeline import Pipeline\n",
    "from sklearn.compose import ColumnTransformer\n",
    "from sklearn.preprocessing import StandardScaler, RobustScaler, OneHotEncoder\n",
    "\n",
    "from sklearn.svm import SVC, SVR\n",
    "from sklearn.linear_model import LogisticRegression, LinearRegression, ElasticNet, SGDRegressor\n",
    "from sklearn.naive_bayes import GaussianNB\n",
    "from sklearn.tree import DecisionTreeClassifier, DecisionTreeRegressor\n",
    "from sklearn.neighbors import KNeighborsClassifier, KNeighborsRegressor\n",
    "from sklearn.ensemble import RandomForestClassifier, AdaBoostClassifier, GradientBoostingClassifier\n",
    "from sklearn.ensemble import RandomForestRegressor, AdaBoostRegressor, GradientBoostingRegressor\n",
    "from sklearn.ensemble import VotingClassifier, BaggingClassifier, VotingRegressor, BaggingRegressor\n",
    "from mlxtend.classifier import StackingClassifier\n",
    "\n",
    "from sklearn.metrics import confusion_matrix, ConfusionMatrixDisplay,accuracy_score\n",
    "from sklearn.metrics import mean_absolute_error, mean_squared_error, r2_score\n",
    "\n",
    "from sklearn import set_config\n",
    "set_config(display=\"diagram\")"
   ]
  },
  {
   "cell_type": "code",
   "execution_count": 27,
   "metadata": {},
   "outputs": [
    {
     "data": {
      "text/plain": [
       "(50517, 38)"
      ]
     },
     "execution_count": 27,
     "metadata": {},
     "output_type": "execute_result"
    }
   ],
   "source": [
    "df = pd.read_csv('atp.csv')\n",
    "df.shape"
   ]
  },
  {
   "cell_type": "code",
   "execution_count": 28,
   "metadata": {},
   "outputs": [],
   "source": [
    "X=df.drop(columns=['Date', 'Winner', 'Loser', 'Comment', 'ATP', \n",
    "                   'WRank', 'LRank', 'B365W', 'B365L','W1', 'L1', 'W2', 'L2',  'W3', 'L3', \n",
    "                   'W4', 'L4', 'W5', 'L5', 'Wsets', 'Lsets', 'FavRank', 'FavOdd', \n",
    "                   'TotalSets', 'TotalGames', 'TotalWgames', 'TotalLgames', 'L2M'])\n",
    "\n",
    "# y_rank=df['FavRank']\n",
    "# y_odd=df['FavOdd']\n",
    "# y_sets=df['TotalSets']\n",
    "y_games=df['TotalGames']\n",
    "# y_l2m=df['L2M']"
   ]
  },
  {
   "cell_type": "code",
   "execution_count": 29,
   "metadata": {},
   "outputs": [
    {
     "data": {
      "text/plain": [
       "Index(['Location', 'Tournament', 'Series', 'Court', 'Surface', 'Round',\n",
       "       'Best of', 'GapRank', 'GapOdd', 'Month'],\n",
       "      dtype='object')"
      ]
     },
     "execution_count": 29,
     "metadata": {},
     "output_type": "execute_result"
    }
   ],
   "source": [
    "X.columns"
   ]
  },
  {
   "cell_type": "code",
   "execution_count": 30,
   "metadata": {},
   "outputs": [],
   "source": [
    "X_train, X_test, y_train, y_test = train_test_split(X, y_games, test_size=0.25, random_state=42)"
   ]
  },
  {
   "cell_type": "code",
   "execution_count": 31,
   "metadata": {},
   "outputs": [],
   "source": [
    "df_pred=pd.DataFrame()\n",
    "df_pred['target']=y_test"
   ]
  },
  {
   "attachments": {},
   "cell_type": "markdown",
   "metadata": {},
   "source": [
    "#### VotingRegressor"
   ]
  },
  {
   "cell_type": "code",
   "execution_count": 32,
   "metadata": {},
   "outputs": [],
   "source": [
    "algo_voting=VotingRegressor(estimators=[\n",
    "    ('knn', KNeighborsRegressor()), \n",
    "    ('lr', LinearRegression()), \n",
    "    ('dt', DecisionTreeRegressor())])"
   ]
  },
  {
   "cell_type": "code",
   "execution_count": 33,
   "metadata": {},
   "outputs": [
    {
     "data": {
      "text/html": [
       "<style>#sk-2eb95cbf-8b8e-4c39-b4cc-1727cc623ca9 {color: black;background-color: white;}#sk-2eb95cbf-8b8e-4c39-b4cc-1727cc623ca9 pre{padding: 0;}#sk-2eb95cbf-8b8e-4c39-b4cc-1727cc623ca9 div.sk-toggleable {background-color: white;}#sk-2eb95cbf-8b8e-4c39-b4cc-1727cc623ca9 label.sk-toggleable__label {cursor: pointer;display: block;width: 100%;margin-bottom: 0;padding: 0.3em;box-sizing: border-box;text-align: center;}#sk-2eb95cbf-8b8e-4c39-b4cc-1727cc623ca9 label.sk-toggleable__label-arrow:before {content: \"▸\";float: left;margin-right: 0.25em;color: #696969;}#sk-2eb95cbf-8b8e-4c39-b4cc-1727cc623ca9 label.sk-toggleable__label-arrow:hover:before {color: black;}#sk-2eb95cbf-8b8e-4c39-b4cc-1727cc623ca9 div.sk-estimator:hover label.sk-toggleable__label-arrow:before {color: black;}#sk-2eb95cbf-8b8e-4c39-b4cc-1727cc623ca9 div.sk-toggleable__content {max-height: 0;max-width: 0;overflow: hidden;text-align: left;background-color: #f0f8ff;}#sk-2eb95cbf-8b8e-4c39-b4cc-1727cc623ca9 div.sk-toggleable__content pre {margin: 0.2em;color: black;border-radius: 0.25em;background-color: #f0f8ff;}#sk-2eb95cbf-8b8e-4c39-b4cc-1727cc623ca9 input.sk-toggleable__control:checked~div.sk-toggleable__content {max-height: 200px;max-width: 100%;overflow: auto;}#sk-2eb95cbf-8b8e-4c39-b4cc-1727cc623ca9 input.sk-toggleable__control:checked~label.sk-toggleable__label-arrow:before {content: \"▾\";}#sk-2eb95cbf-8b8e-4c39-b4cc-1727cc623ca9 div.sk-estimator input.sk-toggleable__control:checked~label.sk-toggleable__label {background-color: #d4ebff;}#sk-2eb95cbf-8b8e-4c39-b4cc-1727cc623ca9 div.sk-label input.sk-toggleable__control:checked~label.sk-toggleable__label {background-color: #d4ebff;}#sk-2eb95cbf-8b8e-4c39-b4cc-1727cc623ca9 input.sk-hidden--visually {border: 0;clip: rect(1px 1px 1px 1px);clip: rect(1px, 1px, 1px, 1px);height: 1px;margin: -1px;overflow: hidden;padding: 0;position: absolute;width: 1px;}#sk-2eb95cbf-8b8e-4c39-b4cc-1727cc623ca9 div.sk-estimator {font-family: monospace;background-color: #f0f8ff;border: 1px dotted black;border-radius: 0.25em;box-sizing: border-box;margin-bottom: 0.5em;}#sk-2eb95cbf-8b8e-4c39-b4cc-1727cc623ca9 div.sk-estimator:hover {background-color: #d4ebff;}#sk-2eb95cbf-8b8e-4c39-b4cc-1727cc623ca9 div.sk-parallel-item::after {content: \"\";width: 100%;border-bottom: 1px solid gray;flex-grow: 1;}#sk-2eb95cbf-8b8e-4c39-b4cc-1727cc623ca9 div.sk-label:hover label.sk-toggleable__label {background-color: #d4ebff;}#sk-2eb95cbf-8b8e-4c39-b4cc-1727cc623ca9 div.sk-serial::before {content: \"\";position: absolute;border-left: 1px solid gray;box-sizing: border-box;top: 2em;bottom: 0;left: 50%;}#sk-2eb95cbf-8b8e-4c39-b4cc-1727cc623ca9 div.sk-serial {display: flex;flex-direction: column;align-items: center;background-color: white;padding-right: 0.2em;padding-left: 0.2em;}#sk-2eb95cbf-8b8e-4c39-b4cc-1727cc623ca9 div.sk-item {z-index: 1;}#sk-2eb95cbf-8b8e-4c39-b4cc-1727cc623ca9 div.sk-parallel {display: flex;align-items: stretch;justify-content: center;background-color: white;}#sk-2eb95cbf-8b8e-4c39-b4cc-1727cc623ca9 div.sk-parallel::before {content: \"\";position: absolute;border-left: 1px solid gray;box-sizing: border-box;top: 2em;bottom: 0;left: 50%;}#sk-2eb95cbf-8b8e-4c39-b4cc-1727cc623ca9 div.sk-parallel-item {display: flex;flex-direction: column;position: relative;background-color: white;}#sk-2eb95cbf-8b8e-4c39-b4cc-1727cc623ca9 div.sk-parallel-item:first-child::after {align-self: flex-end;width: 50%;}#sk-2eb95cbf-8b8e-4c39-b4cc-1727cc623ca9 div.sk-parallel-item:last-child::after {align-self: flex-start;width: 50%;}#sk-2eb95cbf-8b8e-4c39-b4cc-1727cc623ca9 div.sk-parallel-item:only-child::after {width: 0;}#sk-2eb95cbf-8b8e-4c39-b4cc-1727cc623ca9 div.sk-dashed-wrapped {border: 1px dashed gray;margin: 0 0.4em 0.5em 0.4em;box-sizing: border-box;padding-bottom: 0.4em;background-color: white;position: relative;}#sk-2eb95cbf-8b8e-4c39-b4cc-1727cc623ca9 div.sk-label label {font-family: monospace;font-weight: bold;background-color: white;display: inline-block;line-height: 1.2em;}#sk-2eb95cbf-8b8e-4c39-b4cc-1727cc623ca9 div.sk-label-container {position: relative;z-index: 2;text-align: center;}#sk-2eb95cbf-8b8e-4c39-b4cc-1727cc623ca9 div.sk-container {/* jupyter's `normalize.less` sets `[hidden] { display: none; }` but bootstrap.min.css set `[hidden] { display: none !important; }` so we also need the `!important` here to be able to override the default hidden behavior on the sphinx rendered scikit-learn.org. See: https://github.com/scikit-learn/scikit-learn/issues/21755 */display: inline-block !important;position: relative;}#sk-2eb95cbf-8b8e-4c39-b4cc-1727cc623ca9 div.sk-text-repr-fallback {display: none;}</style><div id=\"sk-2eb95cbf-8b8e-4c39-b4cc-1727cc623ca9\" class=\"sk-top-container\"><div class=\"sk-text-repr-fallback\"><pre>Pipeline(steps=[(&#x27;preprocessor&#x27;,\n",
       "                 ColumnTransformer(transformers=[(&#x27;rob_scaler&#x27;, RobustScaler(),\n",
       "                                                  [&#x27;GapRank&#x27;, &#x27;GapOdd&#x27;,\n",
       "                                                   &#x27;Best of&#x27;, &#x27;Month&#x27;]),\n",
       "                                                 (&#x27;encoder&#x27;,\n",
       "                                                  OneHotEncoder(handle_unknown=&#x27;ignore&#x27;,\n",
       "                                                                sparse=False),\n",
       "                                                  [&#x27;Location&#x27;, &#x27;Tournament&#x27;,\n",
       "                                                   &#x27;Series&#x27;, &#x27;Court&#x27;, &#x27;Surface&#x27;,\n",
       "                                                   &#x27;Round&#x27;])])),\n",
       "                (&#x27;regressor&#x27;,\n",
       "                 VotingRegressor(estimators=[(&#x27;knn&#x27;, KNeighborsRegressor()),\n",
       "                                             (&#x27;lr&#x27;, LinearRegression()),\n",
       "                                             (&#x27;dt&#x27;,\n",
       "                                              DecisionTreeRegressor())]))])</pre><b>Please rerun this cell to show the HTML repr or trust the notebook.</b></div><div class=\"sk-container\" hidden><div class=\"sk-item sk-dashed-wrapped\"><div class=\"sk-label-container\"><div class=\"sk-label sk-toggleable\"><input class=\"sk-toggleable__control sk-hidden--visually\" id=\"705e62d2-6fdf-4f40-8cf0-69372bb59582\" type=\"checkbox\" ><label for=\"705e62d2-6fdf-4f40-8cf0-69372bb59582\" class=\"sk-toggleable__label sk-toggleable__label-arrow\">Pipeline</label><div class=\"sk-toggleable__content\"><pre>Pipeline(steps=[(&#x27;preprocessor&#x27;,\n",
       "                 ColumnTransformer(transformers=[(&#x27;rob_scaler&#x27;, RobustScaler(),\n",
       "                                                  [&#x27;GapRank&#x27;, &#x27;GapOdd&#x27;,\n",
       "                                                   &#x27;Best of&#x27;, &#x27;Month&#x27;]),\n",
       "                                                 (&#x27;encoder&#x27;,\n",
       "                                                  OneHotEncoder(handle_unknown=&#x27;ignore&#x27;,\n",
       "                                                                sparse=False),\n",
       "                                                  [&#x27;Location&#x27;, &#x27;Tournament&#x27;,\n",
       "                                                   &#x27;Series&#x27;, &#x27;Court&#x27;, &#x27;Surface&#x27;,\n",
       "                                                   &#x27;Round&#x27;])])),\n",
       "                (&#x27;regressor&#x27;,\n",
       "                 VotingRegressor(estimators=[(&#x27;knn&#x27;, KNeighborsRegressor()),\n",
       "                                             (&#x27;lr&#x27;, LinearRegression()),\n",
       "                                             (&#x27;dt&#x27;,\n",
       "                                              DecisionTreeRegressor())]))])</pre></div></div></div><div class=\"sk-serial\"><div class=\"sk-item sk-dashed-wrapped\"><div class=\"sk-label-container\"><div class=\"sk-label sk-toggleable\"><input class=\"sk-toggleable__control sk-hidden--visually\" id=\"2a0a54df-9171-49d9-b355-81aef029b7c9\" type=\"checkbox\" ><label for=\"2a0a54df-9171-49d9-b355-81aef029b7c9\" class=\"sk-toggleable__label sk-toggleable__label-arrow\">preprocessor: ColumnTransformer</label><div class=\"sk-toggleable__content\"><pre>ColumnTransformer(transformers=[(&#x27;rob_scaler&#x27;, RobustScaler(),\n",
       "                                 [&#x27;GapRank&#x27;, &#x27;GapOdd&#x27;, &#x27;Best of&#x27;, &#x27;Month&#x27;]),\n",
       "                                (&#x27;encoder&#x27;,\n",
       "                                 OneHotEncoder(handle_unknown=&#x27;ignore&#x27;,\n",
       "                                               sparse=False),\n",
       "                                 [&#x27;Location&#x27;, &#x27;Tournament&#x27;, &#x27;Series&#x27;, &#x27;Court&#x27;,\n",
       "                                  &#x27;Surface&#x27;, &#x27;Round&#x27;])])</pre></div></div></div><div class=\"sk-parallel\"><div class=\"sk-parallel-item\"><div class=\"sk-item\"><div class=\"sk-label-container\"><div class=\"sk-label sk-toggleable\"><input class=\"sk-toggleable__control sk-hidden--visually\" id=\"a688df26-634b-4cec-8c2e-26318d2833d1\" type=\"checkbox\" ><label for=\"a688df26-634b-4cec-8c2e-26318d2833d1\" class=\"sk-toggleable__label sk-toggleable__label-arrow\">rob_scaler</label><div class=\"sk-toggleable__content\"><pre>[&#x27;GapRank&#x27;, &#x27;GapOdd&#x27;, &#x27;Best of&#x27;, &#x27;Month&#x27;]</pre></div></div></div><div class=\"sk-serial\"><div class=\"sk-item\"><div class=\"sk-estimator sk-toggleable\"><input class=\"sk-toggleable__control sk-hidden--visually\" id=\"62b2172b-30c1-49f8-bd90-9d9a03f4a6f3\" type=\"checkbox\" ><label for=\"62b2172b-30c1-49f8-bd90-9d9a03f4a6f3\" class=\"sk-toggleable__label sk-toggleable__label-arrow\">RobustScaler</label><div class=\"sk-toggleable__content\"><pre>RobustScaler()</pre></div></div></div></div></div></div><div class=\"sk-parallel-item\"><div class=\"sk-item\"><div class=\"sk-label-container\"><div class=\"sk-label sk-toggleable\"><input class=\"sk-toggleable__control sk-hidden--visually\" id=\"a778ae50-489d-4bdf-8834-08c0327534e5\" type=\"checkbox\" ><label for=\"a778ae50-489d-4bdf-8834-08c0327534e5\" class=\"sk-toggleable__label sk-toggleable__label-arrow\">encoder</label><div class=\"sk-toggleable__content\"><pre>[&#x27;Location&#x27;, &#x27;Tournament&#x27;, &#x27;Series&#x27;, &#x27;Court&#x27;, &#x27;Surface&#x27;, &#x27;Round&#x27;]</pre></div></div></div><div class=\"sk-serial\"><div class=\"sk-item\"><div class=\"sk-estimator sk-toggleable\"><input class=\"sk-toggleable__control sk-hidden--visually\" id=\"b708b1e1-c237-438d-af32-8b9fc01cf552\" type=\"checkbox\" ><label for=\"b708b1e1-c237-438d-af32-8b9fc01cf552\" class=\"sk-toggleable__label sk-toggleable__label-arrow\">OneHotEncoder</label><div class=\"sk-toggleable__content\"><pre>OneHotEncoder(handle_unknown=&#x27;ignore&#x27;, sparse=False)</pre></div></div></div></div></div></div></div></div><div class=\"sk-item sk-dashed-wrapped\"><div class=\"sk-label-container\"><div class=\"sk-label sk-toggleable\"><input class=\"sk-toggleable__control sk-hidden--visually\" id=\"93abed0e-cb71-46c2-97ca-84762dc0ba48\" type=\"checkbox\" ><label for=\"93abed0e-cb71-46c2-97ca-84762dc0ba48\" class=\"sk-toggleable__label sk-toggleable__label-arrow\">regressor: VotingRegressor</label><div class=\"sk-toggleable__content\"><pre>VotingRegressor(estimators=[(&#x27;knn&#x27;, KNeighborsRegressor()),\n",
       "                            (&#x27;lr&#x27;, LinearRegression()),\n",
       "                            (&#x27;dt&#x27;, DecisionTreeRegressor())])</pre></div></div></div><div class=\"sk-parallel\"><div class=\"sk-parallel-item\"><div class=\"sk-item\"><div class=\"sk-label-container\"><div class=\"sk-label sk-toggleable\"><label>knn</label></div></div><div class=\"sk-serial\"><div class=\"sk-item\"><div class=\"sk-estimator sk-toggleable\"><input class=\"sk-toggleable__control sk-hidden--visually\" id=\"c04a0e63-eb96-4317-98e3-d71ef6305519\" type=\"checkbox\" ><label for=\"c04a0e63-eb96-4317-98e3-d71ef6305519\" class=\"sk-toggleable__label sk-toggleable__label-arrow\">KNeighborsRegressor</label><div class=\"sk-toggleable__content\"><pre>KNeighborsRegressor()</pre></div></div></div></div></div></div><div class=\"sk-parallel-item\"><div class=\"sk-item\"><div class=\"sk-label-container\"><div class=\"sk-label sk-toggleable\"><label>lr</label></div></div><div class=\"sk-serial\"><div class=\"sk-item\"><div class=\"sk-estimator sk-toggleable\"><input class=\"sk-toggleable__control sk-hidden--visually\" id=\"302b59bc-fa45-46f6-b064-3745e414d1e8\" type=\"checkbox\" ><label for=\"302b59bc-fa45-46f6-b064-3745e414d1e8\" class=\"sk-toggleable__label sk-toggleable__label-arrow\">LinearRegression</label><div class=\"sk-toggleable__content\"><pre>LinearRegression()</pre></div></div></div></div></div></div><div class=\"sk-parallel-item\"><div class=\"sk-item\"><div class=\"sk-label-container\"><div class=\"sk-label sk-toggleable\"><label>dt</label></div></div><div class=\"sk-serial\"><div class=\"sk-item\"><div class=\"sk-estimator sk-toggleable\"><input class=\"sk-toggleable__control sk-hidden--visually\" id=\"0008366e-0fd5-4b38-80f4-8fdcd62cd701\" type=\"checkbox\" ><label for=\"0008366e-0fd5-4b38-80f4-8fdcd62cd701\" class=\"sk-toggleable__label sk-toggleable__label-arrow\">DecisionTreeRegressor</label><div class=\"sk-toggleable__content\"><pre>DecisionTreeRegressor()</pre></div></div></div></div></div></div></div></div></div></div></div></div>"
      ],
      "text/plain": [
       "Pipeline(steps=[('preprocessor',\n",
       "                 ColumnTransformer(transformers=[('rob_scaler', RobustScaler(),\n",
       "                                                  ['GapRank', 'GapOdd',\n",
       "                                                   'Best of', 'Month']),\n",
       "                                                 ('encoder',\n",
       "                                                  OneHotEncoder(handle_unknown='ignore',\n",
       "                                                                sparse=False),\n",
       "                                                  ['Location', 'Tournament',\n",
       "                                                   'Series', 'Court', 'Surface',\n",
       "                                                   'Round'])])),\n",
       "                ('regressor',\n",
       "                 VotingRegressor(estimators=[('knn', KNeighborsRegressor()),\n",
       "                                             ('lr', LinearRegression()),\n",
       "                                             ('dt',\n",
       "                                              DecisionTreeRegressor())]))])"
      ]
     },
     "execution_count": 33,
     "metadata": {},
     "output_type": "execute_result"
    }
   ],
   "source": [
    "categorical_columns = ['Location', 'Tournament', 'Series', 'Court', 'Surface', 'Round']\n",
    "numeric_columns = ['GapRank', 'GapOdd', 'Best of', 'Month']\n",
    "\n",
    "rob_scaler = RobustScaler()\n",
    "ohe = OneHotEncoder(handle_unknown='ignore', sparse=False)\n",
    "\n",
    "# Création du préprocesseur pour les colonnes numériques et catégorielles\n",
    "preprocessor = ColumnTransformer(\n",
    "    transformers=[\n",
    "        ('rob_scaler', rob_scaler, numeric_columns),\n",
    "        ('encoder', ohe, categorical_columns)\n",
    "    ])\n",
    "\n",
    "# Création du pipeline avec le préprocesseur et le classificateur SVC\n",
    "pipeline_voting = Pipeline(steps=[\n",
    "    ('preprocessor', preprocessor),\n",
    "    ('regressor', algo_voting)\n",
    "])\n",
    "\n",
    "pipeline_voting"
   ]
  },
  {
   "cell_type": "code",
   "execution_count": 34,
   "metadata": {},
   "outputs": [],
   "source": [
    "pipeline_voting.fit(X_train, y_train)\n",
    "\n",
    "y_train_pred=pipeline_voting.predict(X_train)\n",
    "y_test_pred=pipeline_voting.predict(X_test)\n",
    "\n",
    "print(pipeline_voting.score(X_train,y_train))\n",
    "print(pipeline_voting.score(X_test,y_test))\n",
    "print(\"rmse train :\", (mean_squared_error(y_train,y_train_pred))**0.5)\n",
    "print(\"rmse test :\", (mean_squared_error(y_test,y_test_pred))**0.5)"
   ]
  },
  {
   "cell_type": "code",
   "execution_count": null,
   "metadata": {},
   "outputs": [],
   "source": [
    "df_pred['voting']=pipeline_voting.predict(X_test)"
   ]
  },
  {
   "attachments": {},
   "cell_type": "markdown",
   "metadata": {},
   "source": [
    "#### Boosting"
   ]
  },
  {
   "cell_type": "code",
   "execution_count": null,
   "metadata": {},
   "outputs": [
    {
     "data": {
      "text/html": [
       "<style>#sk-6df25e42-2473-49a7-a53a-35c06ac59ee3 {color: black;background-color: white;}#sk-6df25e42-2473-49a7-a53a-35c06ac59ee3 pre{padding: 0;}#sk-6df25e42-2473-49a7-a53a-35c06ac59ee3 div.sk-toggleable {background-color: white;}#sk-6df25e42-2473-49a7-a53a-35c06ac59ee3 label.sk-toggleable__label {cursor: pointer;display: block;width: 100%;margin-bottom: 0;padding: 0.3em;box-sizing: border-box;text-align: center;}#sk-6df25e42-2473-49a7-a53a-35c06ac59ee3 label.sk-toggleable__label-arrow:before {content: \"▸\";float: left;margin-right: 0.25em;color: #696969;}#sk-6df25e42-2473-49a7-a53a-35c06ac59ee3 label.sk-toggleable__label-arrow:hover:before {color: black;}#sk-6df25e42-2473-49a7-a53a-35c06ac59ee3 div.sk-estimator:hover label.sk-toggleable__label-arrow:before {color: black;}#sk-6df25e42-2473-49a7-a53a-35c06ac59ee3 div.sk-toggleable__content {max-height: 0;max-width: 0;overflow: hidden;text-align: left;background-color: #f0f8ff;}#sk-6df25e42-2473-49a7-a53a-35c06ac59ee3 div.sk-toggleable__content pre {margin: 0.2em;color: black;border-radius: 0.25em;background-color: #f0f8ff;}#sk-6df25e42-2473-49a7-a53a-35c06ac59ee3 input.sk-toggleable__control:checked~div.sk-toggleable__content {max-height: 200px;max-width: 100%;overflow: auto;}#sk-6df25e42-2473-49a7-a53a-35c06ac59ee3 input.sk-toggleable__control:checked~label.sk-toggleable__label-arrow:before {content: \"▾\";}#sk-6df25e42-2473-49a7-a53a-35c06ac59ee3 div.sk-estimator input.sk-toggleable__control:checked~label.sk-toggleable__label {background-color: #d4ebff;}#sk-6df25e42-2473-49a7-a53a-35c06ac59ee3 div.sk-label input.sk-toggleable__control:checked~label.sk-toggleable__label {background-color: #d4ebff;}#sk-6df25e42-2473-49a7-a53a-35c06ac59ee3 input.sk-hidden--visually {border: 0;clip: rect(1px 1px 1px 1px);clip: rect(1px, 1px, 1px, 1px);height: 1px;margin: -1px;overflow: hidden;padding: 0;position: absolute;width: 1px;}#sk-6df25e42-2473-49a7-a53a-35c06ac59ee3 div.sk-estimator {font-family: monospace;background-color: #f0f8ff;border: 1px dotted black;border-radius: 0.25em;box-sizing: border-box;margin-bottom: 0.5em;}#sk-6df25e42-2473-49a7-a53a-35c06ac59ee3 div.sk-estimator:hover {background-color: #d4ebff;}#sk-6df25e42-2473-49a7-a53a-35c06ac59ee3 div.sk-parallel-item::after {content: \"\";width: 100%;border-bottom: 1px solid gray;flex-grow: 1;}#sk-6df25e42-2473-49a7-a53a-35c06ac59ee3 div.sk-label:hover label.sk-toggleable__label {background-color: #d4ebff;}#sk-6df25e42-2473-49a7-a53a-35c06ac59ee3 div.sk-serial::before {content: \"\";position: absolute;border-left: 1px solid gray;box-sizing: border-box;top: 2em;bottom: 0;left: 50%;}#sk-6df25e42-2473-49a7-a53a-35c06ac59ee3 div.sk-serial {display: flex;flex-direction: column;align-items: center;background-color: white;padding-right: 0.2em;padding-left: 0.2em;}#sk-6df25e42-2473-49a7-a53a-35c06ac59ee3 div.sk-item {z-index: 1;}#sk-6df25e42-2473-49a7-a53a-35c06ac59ee3 div.sk-parallel {display: flex;align-items: stretch;justify-content: center;background-color: white;}#sk-6df25e42-2473-49a7-a53a-35c06ac59ee3 div.sk-parallel::before {content: \"\";position: absolute;border-left: 1px solid gray;box-sizing: border-box;top: 2em;bottom: 0;left: 50%;}#sk-6df25e42-2473-49a7-a53a-35c06ac59ee3 div.sk-parallel-item {display: flex;flex-direction: column;position: relative;background-color: white;}#sk-6df25e42-2473-49a7-a53a-35c06ac59ee3 div.sk-parallel-item:first-child::after {align-self: flex-end;width: 50%;}#sk-6df25e42-2473-49a7-a53a-35c06ac59ee3 div.sk-parallel-item:last-child::after {align-self: flex-start;width: 50%;}#sk-6df25e42-2473-49a7-a53a-35c06ac59ee3 div.sk-parallel-item:only-child::after {width: 0;}#sk-6df25e42-2473-49a7-a53a-35c06ac59ee3 div.sk-dashed-wrapped {border: 1px dashed gray;margin: 0 0.4em 0.5em 0.4em;box-sizing: border-box;padding-bottom: 0.4em;background-color: white;position: relative;}#sk-6df25e42-2473-49a7-a53a-35c06ac59ee3 div.sk-label label {font-family: monospace;font-weight: bold;background-color: white;display: inline-block;line-height: 1.2em;}#sk-6df25e42-2473-49a7-a53a-35c06ac59ee3 div.sk-label-container {position: relative;z-index: 2;text-align: center;}#sk-6df25e42-2473-49a7-a53a-35c06ac59ee3 div.sk-container {/* jupyter's `normalize.less` sets `[hidden] { display: none; }` but bootstrap.min.css set `[hidden] { display: none !important; }` so we also need the `!important` here to be able to override the default hidden behavior on the sphinx rendered scikit-learn.org. See: https://github.com/scikit-learn/scikit-learn/issues/21755 */display: inline-block !important;position: relative;}#sk-6df25e42-2473-49a7-a53a-35c06ac59ee3 div.sk-text-repr-fallback {display: none;}</style><div id=\"sk-6df25e42-2473-49a7-a53a-35c06ac59ee3\" class=\"sk-top-container\"><div class=\"sk-text-repr-fallback\"><pre>Pipeline(steps=[(&#x27;preprocessor&#x27;,\n",
       "                 ColumnTransformer(transformers=[(&#x27;rob_scaler&#x27;, RobustScaler(),\n",
       "                                                  [&#x27;GapRank&#x27;, &#x27;GapOdd&#x27;,\n",
       "                                                   &#x27;Best of&#x27;, &#x27;Month&#x27;]),\n",
       "                                                 (&#x27;encoder&#x27;,\n",
       "                                                  OneHotEncoder(handle_unknown=&#x27;ignore&#x27;,\n",
       "                                                                sparse=False),\n",
       "                                                  [&#x27;Location&#x27;, &#x27;Tournament&#x27;,\n",
       "                                                   &#x27;Series&#x27;, &#x27;Court&#x27;, &#x27;Surface&#x27;,\n",
       "                                                   &#x27;Round&#x27;])])),\n",
       "                (&#x27;classifier&#x27;, AdaBoostRegressor())])</pre><b>Please rerun this cell to show the HTML repr or trust the notebook.</b></div><div class=\"sk-container\" hidden><div class=\"sk-item sk-dashed-wrapped\"><div class=\"sk-label-container\"><div class=\"sk-label sk-toggleable\"><input class=\"sk-toggleable__control sk-hidden--visually\" id=\"c8b625c5-af45-43be-a2a6-7830abe9c923\" type=\"checkbox\" ><label for=\"c8b625c5-af45-43be-a2a6-7830abe9c923\" class=\"sk-toggleable__label sk-toggleable__label-arrow\">Pipeline</label><div class=\"sk-toggleable__content\"><pre>Pipeline(steps=[(&#x27;preprocessor&#x27;,\n",
       "                 ColumnTransformer(transformers=[(&#x27;rob_scaler&#x27;, RobustScaler(),\n",
       "                                                  [&#x27;GapRank&#x27;, &#x27;GapOdd&#x27;,\n",
       "                                                   &#x27;Best of&#x27;, &#x27;Month&#x27;]),\n",
       "                                                 (&#x27;encoder&#x27;,\n",
       "                                                  OneHotEncoder(handle_unknown=&#x27;ignore&#x27;,\n",
       "                                                                sparse=False),\n",
       "                                                  [&#x27;Location&#x27;, &#x27;Tournament&#x27;,\n",
       "                                                   &#x27;Series&#x27;, &#x27;Court&#x27;, &#x27;Surface&#x27;,\n",
       "                                                   &#x27;Round&#x27;])])),\n",
       "                (&#x27;classifier&#x27;, AdaBoostRegressor())])</pre></div></div></div><div class=\"sk-serial\"><div class=\"sk-item sk-dashed-wrapped\"><div class=\"sk-label-container\"><div class=\"sk-label sk-toggleable\"><input class=\"sk-toggleable__control sk-hidden--visually\" id=\"b58c32cd-dd8c-4efb-b97a-e4222c6a15df\" type=\"checkbox\" ><label for=\"b58c32cd-dd8c-4efb-b97a-e4222c6a15df\" class=\"sk-toggleable__label sk-toggleable__label-arrow\">preprocessor: ColumnTransformer</label><div class=\"sk-toggleable__content\"><pre>ColumnTransformer(transformers=[(&#x27;rob_scaler&#x27;, RobustScaler(),\n",
       "                                 [&#x27;GapRank&#x27;, &#x27;GapOdd&#x27;, &#x27;Best of&#x27;, &#x27;Month&#x27;]),\n",
       "                                (&#x27;encoder&#x27;,\n",
       "                                 OneHotEncoder(handle_unknown=&#x27;ignore&#x27;,\n",
       "                                               sparse=False),\n",
       "                                 [&#x27;Location&#x27;, &#x27;Tournament&#x27;, &#x27;Series&#x27;, &#x27;Court&#x27;,\n",
       "                                  &#x27;Surface&#x27;, &#x27;Round&#x27;])])</pre></div></div></div><div class=\"sk-parallel\"><div class=\"sk-parallel-item\"><div class=\"sk-item\"><div class=\"sk-label-container\"><div class=\"sk-label sk-toggleable\"><input class=\"sk-toggleable__control sk-hidden--visually\" id=\"4ca40841-1974-4c63-a368-2c104ad1dc25\" type=\"checkbox\" ><label for=\"4ca40841-1974-4c63-a368-2c104ad1dc25\" class=\"sk-toggleable__label sk-toggleable__label-arrow\">rob_scaler</label><div class=\"sk-toggleable__content\"><pre>[&#x27;GapRank&#x27;, &#x27;GapOdd&#x27;, &#x27;Best of&#x27;, &#x27;Month&#x27;]</pre></div></div></div><div class=\"sk-serial\"><div class=\"sk-item\"><div class=\"sk-estimator sk-toggleable\"><input class=\"sk-toggleable__control sk-hidden--visually\" id=\"daae1da7-6c36-4b88-aa07-e26bf340e4d2\" type=\"checkbox\" ><label for=\"daae1da7-6c36-4b88-aa07-e26bf340e4d2\" class=\"sk-toggleable__label sk-toggleable__label-arrow\">RobustScaler</label><div class=\"sk-toggleable__content\"><pre>RobustScaler()</pre></div></div></div></div></div></div><div class=\"sk-parallel-item\"><div class=\"sk-item\"><div class=\"sk-label-container\"><div class=\"sk-label sk-toggleable\"><input class=\"sk-toggleable__control sk-hidden--visually\" id=\"5e19ebc1-0f08-4347-ac83-d4bfcd2c90a2\" type=\"checkbox\" ><label for=\"5e19ebc1-0f08-4347-ac83-d4bfcd2c90a2\" class=\"sk-toggleable__label sk-toggleable__label-arrow\">encoder</label><div class=\"sk-toggleable__content\"><pre>[&#x27;Location&#x27;, &#x27;Tournament&#x27;, &#x27;Series&#x27;, &#x27;Court&#x27;, &#x27;Surface&#x27;, &#x27;Round&#x27;]</pre></div></div></div><div class=\"sk-serial\"><div class=\"sk-item\"><div class=\"sk-estimator sk-toggleable\"><input class=\"sk-toggleable__control sk-hidden--visually\" id=\"e15f0d16-b983-4b86-be9c-0b31d8888b82\" type=\"checkbox\" ><label for=\"e15f0d16-b983-4b86-be9c-0b31d8888b82\" class=\"sk-toggleable__label sk-toggleable__label-arrow\">OneHotEncoder</label><div class=\"sk-toggleable__content\"><pre>OneHotEncoder(handle_unknown=&#x27;ignore&#x27;, sparse=False)</pre></div></div></div></div></div></div></div></div><div class=\"sk-item\"><div class=\"sk-estimator sk-toggleable\"><input class=\"sk-toggleable__control sk-hidden--visually\" id=\"013ec5ec-1492-40dd-9996-3d74e08522a0\" type=\"checkbox\" ><label for=\"013ec5ec-1492-40dd-9996-3d74e08522a0\" class=\"sk-toggleable__label sk-toggleable__label-arrow\">AdaBoostRegressor</label><div class=\"sk-toggleable__content\"><pre>AdaBoostRegressor()</pre></div></div></div></div></div></div></div>"
      ],
      "text/plain": [
       "Pipeline(steps=[('preprocessor',\n",
       "                 ColumnTransformer(transformers=[('rob_scaler', RobustScaler(),\n",
       "                                                  ['GapRank', 'GapOdd',\n",
       "                                                   'Best of', 'Month']),\n",
       "                                                 ('encoder',\n",
       "                                                  OneHotEncoder(handle_unknown='ignore',\n",
       "                                                                sparse=False),\n",
       "                                                  ['Location', 'Tournament',\n",
       "                                                   'Series', 'Court', 'Surface',\n",
       "                                                   'Round'])])),\n",
       "                ('classifier', AdaBoostRegressor())])"
      ]
     },
     "execution_count": 37,
     "metadata": {},
     "output_type": "execute_result"
    }
   ],
   "source": [
    "categorical_columns = ['Location', 'Tournament', 'Series', 'Court', 'Surface', 'Round']\n",
    "numeric_columns = ['GapRank', 'GapOdd', 'Best of', 'Month']\n",
    "\n",
    "rob_scaler = RobustScaler()\n",
    "ohe = OneHotEncoder(handle_unknown='ignore', sparse=False)\n",
    "\n",
    "# Création du préprocesseur pour les colonnes numériques et catégorielles\n",
    "preprocessor = ColumnTransformer(\n",
    "    transformers=[\n",
    "        ('rob_scaler', rob_scaler, numeric_columns),\n",
    "        ('encoder', ohe, categorical_columns)\n",
    "    ])\n",
    "\n",
    "# Création du pipeline avec le préprocesseur et le classificateur SVC\n",
    "pipeline_adaboost = Pipeline(steps=[\n",
    "    ('preprocessor', preprocessor),\n",
    "    ('classifier', AdaBoostRegressor())\n",
    "])\n",
    "\n",
    "pipeline_adaboost"
   ]
  },
  {
   "cell_type": "code",
   "execution_count": null,
   "metadata": {},
   "outputs": [
    {
     "name": "stdout",
     "output_type": "stream",
     "text": [
      "0.16565039978166807\n",
      "0.16041321528349217\n",
      "rmse train : 4.924039483325102\n",
      "rmse train : 5.23125295639429\n"
     ]
    }
   ],
   "source": [
    "pipeline_adaboost.fit(X_train, y_train)\n",
    "\n",
    "y_train_pred=pipeline_adaboost.predict(X_train)\n",
    "y_test_pred=pipeline_adaboost.predict(X_test)\n",
    "\n",
    "print(pipeline_adaboost.score(X_train,y_train))\n",
    "print(pipeline_adaboost.score(X_test,y_test))\n",
    "print(\"rmse train :\", (mean_squared_error(y_train,y_train_pred))**0.5)\n",
    "print(\"rmse train :\", (mean_squared_error(y_test,y_test_pred))**0.5)"
   ]
  },
  {
   "cell_type": "code",
   "execution_count": null,
   "metadata": {},
   "outputs": [],
   "source": [
    "df_pred['adaboost']=pipeline_adaboost.predict(X_test)"
   ]
  },
  {
   "attachments": {},
   "cell_type": "markdown",
   "metadata": {},
   "source": [
    "#### Bagging"
   ]
  },
  {
   "cell_type": "code",
   "execution_count": null,
   "metadata": {},
   "outputs": [
    {
     "data": {
      "text/html": [
       "<style>#sk-8da484c1-b58c-4c86-b8e4-d16cd87e6ea6 {color: black;background-color: white;}#sk-8da484c1-b58c-4c86-b8e4-d16cd87e6ea6 pre{padding: 0;}#sk-8da484c1-b58c-4c86-b8e4-d16cd87e6ea6 div.sk-toggleable {background-color: white;}#sk-8da484c1-b58c-4c86-b8e4-d16cd87e6ea6 label.sk-toggleable__label {cursor: pointer;display: block;width: 100%;margin-bottom: 0;padding: 0.3em;box-sizing: border-box;text-align: center;}#sk-8da484c1-b58c-4c86-b8e4-d16cd87e6ea6 label.sk-toggleable__label-arrow:before {content: \"▸\";float: left;margin-right: 0.25em;color: #696969;}#sk-8da484c1-b58c-4c86-b8e4-d16cd87e6ea6 label.sk-toggleable__label-arrow:hover:before {color: black;}#sk-8da484c1-b58c-4c86-b8e4-d16cd87e6ea6 div.sk-estimator:hover label.sk-toggleable__label-arrow:before {color: black;}#sk-8da484c1-b58c-4c86-b8e4-d16cd87e6ea6 div.sk-toggleable__content {max-height: 0;max-width: 0;overflow: hidden;text-align: left;background-color: #f0f8ff;}#sk-8da484c1-b58c-4c86-b8e4-d16cd87e6ea6 div.sk-toggleable__content pre {margin: 0.2em;color: black;border-radius: 0.25em;background-color: #f0f8ff;}#sk-8da484c1-b58c-4c86-b8e4-d16cd87e6ea6 input.sk-toggleable__control:checked~div.sk-toggleable__content {max-height: 200px;max-width: 100%;overflow: auto;}#sk-8da484c1-b58c-4c86-b8e4-d16cd87e6ea6 input.sk-toggleable__control:checked~label.sk-toggleable__label-arrow:before {content: \"▾\";}#sk-8da484c1-b58c-4c86-b8e4-d16cd87e6ea6 div.sk-estimator input.sk-toggleable__control:checked~label.sk-toggleable__label {background-color: #d4ebff;}#sk-8da484c1-b58c-4c86-b8e4-d16cd87e6ea6 div.sk-label input.sk-toggleable__control:checked~label.sk-toggleable__label {background-color: #d4ebff;}#sk-8da484c1-b58c-4c86-b8e4-d16cd87e6ea6 input.sk-hidden--visually {border: 0;clip: rect(1px 1px 1px 1px);clip: rect(1px, 1px, 1px, 1px);height: 1px;margin: -1px;overflow: hidden;padding: 0;position: absolute;width: 1px;}#sk-8da484c1-b58c-4c86-b8e4-d16cd87e6ea6 div.sk-estimator {font-family: monospace;background-color: #f0f8ff;border: 1px dotted black;border-radius: 0.25em;box-sizing: border-box;margin-bottom: 0.5em;}#sk-8da484c1-b58c-4c86-b8e4-d16cd87e6ea6 div.sk-estimator:hover {background-color: #d4ebff;}#sk-8da484c1-b58c-4c86-b8e4-d16cd87e6ea6 div.sk-parallel-item::after {content: \"\";width: 100%;border-bottom: 1px solid gray;flex-grow: 1;}#sk-8da484c1-b58c-4c86-b8e4-d16cd87e6ea6 div.sk-label:hover label.sk-toggleable__label {background-color: #d4ebff;}#sk-8da484c1-b58c-4c86-b8e4-d16cd87e6ea6 div.sk-serial::before {content: \"\";position: absolute;border-left: 1px solid gray;box-sizing: border-box;top: 2em;bottom: 0;left: 50%;}#sk-8da484c1-b58c-4c86-b8e4-d16cd87e6ea6 div.sk-serial {display: flex;flex-direction: column;align-items: center;background-color: white;padding-right: 0.2em;padding-left: 0.2em;}#sk-8da484c1-b58c-4c86-b8e4-d16cd87e6ea6 div.sk-item {z-index: 1;}#sk-8da484c1-b58c-4c86-b8e4-d16cd87e6ea6 div.sk-parallel {display: flex;align-items: stretch;justify-content: center;background-color: white;}#sk-8da484c1-b58c-4c86-b8e4-d16cd87e6ea6 div.sk-parallel::before {content: \"\";position: absolute;border-left: 1px solid gray;box-sizing: border-box;top: 2em;bottom: 0;left: 50%;}#sk-8da484c1-b58c-4c86-b8e4-d16cd87e6ea6 div.sk-parallel-item {display: flex;flex-direction: column;position: relative;background-color: white;}#sk-8da484c1-b58c-4c86-b8e4-d16cd87e6ea6 div.sk-parallel-item:first-child::after {align-self: flex-end;width: 50%;}#sk-8da484c1-b58c-4c86-b8e4-d16cd87e6ea6 div.sk-parallel-item:last-child::after {align-self: flex-start;width: 50%;}#sk-8da484c1-b58c-4c86-b8e4-d16cd87e6ea6 div.sk-parallel-item:only-child::after {width: 0;}#sk-8da484c1-b58c-4c86-b8e4-d16cd87e6ea6 div.sk-dashed-wrapped {border: 1px dashed gray;margin: 0 0.4em 0.5em 0.4em;box-sizing: border-box;padding-bottom: 0.4em;background-color: white;position: relative;}#sk-8da484c1-b58c-4c86-b8e4-d16cd87e6ea6 div.sk-label label {font-family: monospace;font-weight: bold;background-color: white;display: inline-block;line-height: 1.2em;}#sk-8da484c1-b58c-4c86-b8e4-d16cd87e6ea6 div.sk-label-container {position: relative;z-index: 2;text-align: center;}#sk-8da484c1-b58c-4c86-b8e4-d16cd87e6ea6 div.sk-container {/* jupyter's `normalize.less` sets `[hidden] { display: none; }` but bootstrap.min.css set `[hidden] { display: none !important; }` so we also need the `!important` here to be able to override the default hidden behavior on the sphinx rendered scikit-learn.org. See: https://github.com/scikit-learn/scikit-learn/issues/21755 */display: inline-block !important;position: relative;}#sk-8da484c1-b58c-4c86-b8e4-d16cd87e6ea6 div.sk-text-repr-fallback {display: none;}</style><div id=\"sk-8da484c1-b58c-4c86-b8e4-d16cd87e6ea6\" class=\"sk-top-container\"><div class=\"sk-text-repr-fallback\"><pre>Pipeline(steps=[(&#x27;preprocessor&#x27;,\n",
       "                 ColumnTransformer(transformers=[(&#x27;rob_scaler&#x27;, RobustScaler(),\n",
       "                                                  [&#x27;GapRank&#x27;, &#x27;GapOdd&#x27;,\n",
       "                                                   &#x27;Best of&#x27;, &#x27;Month&#x27;]),\n",
       "                                                 (&#x27;encoder&#x27;,\n",
       "                                                  OneHotEncoder(handle_unknown=&#x27;ignore&#x27;,\n",
       "                                                                sparse=False),\n",
       "                                                  [&#x27;Location&#x27;, &#x27;Tournament&#x27;,\n",
       "                                                   &#x27;Series&#x27;, &#x27;Court&#x27;, &#x27;Surface&#x27;,\n",
       "                                                   &#x27;Round&#x27;])])),\n",
       "                (&#x27;classifier&#x27;,\n",
       "                 BaggingRegressor(base_estimator=LinearRegression()))])</pre><b>Please rerun this cell to show the HTML repr or trust the notebook.</b></div><div class=\"sk-container\" hidden><div class=\"sk-item sk-dashed-wrapped\"><div class=\"sk-label-container\"><div class=\"sk-label sk-toggleable\"><input class=\"sk-toggleable__control sk-hidden--visually\" id=\"b450e2ea-feda-40e5-bd4e-4748e829e99e\" type=\"checkbox\" ><label for=\"b450e2ea-feda-40e5-bd4e-4748e829e99e\" class=\"sk-toggleable__label sk-toggleable__label-arrow\">Pipeline</label><div class=\"sk-toggleable__content\"><pre>Pipeline(steps=[(&#x27;preprocessor&#x27;,\n",
       "                 ColumnTransformer(transformers=[(&#x27;rob_scaler&#x27;, RobustScaler(),\n",
       "                                                  [&#x27;GapRank&#x27;, &#x27;GapOdd&#x27;,\n",
       "                                                   &#x27;Best of&#x27;, &#x27;Month&#x27;]),\n",
       "                                                 (&#x27;encoder&#x27;,\n",
       "                                                  OneHotEncoder(handle_unknown=&#x27;ignore&#x27;,\n",
       "                                                                sparse=False),\n",
       "                                                  [&#x27;Location&#x27;, &#x27;Tournament&#x27;,\n",
       "                                                   &#x27;Series&#x27;, &#x27;Court&#x27;, &#x27;Surface&#x27;,\n",
       "                                                   &#x27;Round&#x27;])])),\n",
       "                (&#x27;classifier&#x27;,\n",
       "                 BaggingRegressor(base_estimator=LinearRegression()))])</pre></div></div></div><div class=\"sk-serial\"><div class=\"sk-item sk-dashed-wrapped\"><div class=\"sk-label-container\"><div class=\"sk-label sk-toggleable\"><input class=\"sk-toggleable__control sk-hidden--visually\" id=\"e117fcc5-7858-44a3-81ae-fd8ebcd265df\" type=\"checkbox\" ><label for=\"e117fcc5-7858-44a3-81ae-fd8ebcd265df\" class=\"sk-toggleable__label sk-toggleable__label-arrow\">preprocessor: ColumnTransformer</label><div class=\"sk-toggleable__content\"><pre>ColumnTransformer(transformers=[(&#x27;rob_scaler&#x27;, RobustScaler(),\n",
       "                                 [&#x27;GapRank&#x27;, &#x27;GapOdd&#x27;, &#x27;Best of&#x27;, &#x27;Month&#x27;]),\n",
       "                                (&#x27;encoder&#x27;,\n",
       "                                 OneHotEncoder(handle_unknown=&#x27;ignore&#x27;,\n",
       "                                               sparse=False),\n",
       "                                 [&#x27;Location&#x27;, &#x27;Tournament&#x27;, &#x27;Series&#x27;, &#x27;Court&#x27;,\n",
       "                                  &#x27;Surface&#x27;, &#x27;Round&#x27;])])</pre></div></div></div><div class=\"sk-parallel\"><div class=\"sk-parallel-item\"><div class=\"sk-item\"><div class=\"sk-label-container\"><div class=\"sk-label sk-toggleable\"><input class=\"sk-toggleable__control sk-hidden--visually\" id=\"08cac445-9a4c-4b35-9db6-ddaa186853b7\" type=\"checkbox\" ><label for=\"08cac445-9a4c-4b35-9db6-ddaa186853b7\" class=\"sk-toggleable__label sk-toggleable__label-arrow\">rob_scaler</label><div class=\"sk-toggleable__content\"><pre>[&#x27;GapRank&#x27;, &#x27;GapOdd&#x27;, &#x27;Best of&#x27;, &#x27;Month&#x27;]</pre></div></div></div><div class=\"sk-serial\"><div class=\"sk-item\"><div class=\"sk-estimator sk-toggleable\"><input class=\"sk-toggleable__control sk-hidden--visually\" id=\"7c30c317-3a02-462d-8d84-2e5528766215\" type=\"checkbox\" ><label for=\"7c30c317-3a02-462d-8d84-2e5528766215\" class=\"sk-toggleable__label sk-toggleable__label-arrow\">RobustScaler</label><div class=\"sk-toggleable__content\"><pre>RobustScaler()</pre></div></div></div></div></div></div><div class=\"sk-parallel-item\"><div class=\"sk-item\"><div class=\"sk-label-container\"><div class=\"sk-label sk-toggleable\"><input class=\"sk-toggleable__control sk-hidden--visually\" id=\"e06425e7-cbdd-49db-b73f-85e3e7296e5f\" type=\"checkbox\" ><label for=\"e06425e7-cbdd-49db-b73f-85e3e7296e5f\" class=\"sk-toggleable__label sk-toggleable__label-arrow\">encoder</label><div class=\"sk-toggleable__content\"><pre>[&#x27;Location&#x27;, &#x27;Tournament&#x27;, &#x27;Series&#x27;, &#x27;Court&#x27;, &#x27;Surface&#x27;, &#x27;Round&#x27;]</pre></div></div></div><div class=\"sk-serial\"><div class=\"sk-item\"><div class=\"sk-estimator sk-toggleable\"><input class=\"sk-toggleable__control sk-hidden--visually\" id=\"5d431910-583e-46fb-8ff0-72acabdeef59\" type=\"checkbox\" ><label for=\"5d431910-583e-46fb-8ff0-72acabdeef59\" class=\"sk-toggleable__label sk-toggleable__label-arrow\">OneHotEncoder</label><div class=\"sk-toggleable__content\"><pre>OneHotEncoder(handle_unknown=&#x27;ignore&#x27;, sparse=False)</pre></div></div></div></div></div></div></div></div><div class=\"sk-item sk-dashed-wrapped\"><div class=\"sk-label-container\"><div class=\"sk-label sk-toggleable\"><input class=\"sk-toggleable__control sk-hidden--visually\" id=\"98663ccf-c93f-40b7-b58c-9d3ae636ff59\" type=\"checkbox\" ><label for=\"98663ccf-c93f-40b7-b58c-9d3ae636ff59\" class=\"sk-toggleable__label sk-toggleable__label-arrow\">classifier: BaggingRegressor</label><div class=\"sk-toggleable__content\"><pre>BaggingRegressor(base_estimator=LinearRegression())</pre></div></div></div><div class=\"sk-parallel\"><div class=\"sk-parallel-item\"><div class=\"sk-item\"><div class=\"sk-serial\"><div class=\"sk-item\"><div class=\"sk-estimator sk-toggleable\"><input class=\"sk-toggleable__control sk-hidden--visually\" id=\"c2f5d879-07c0-44b7-ba0f-7afc12791859\" type=\"checkbox\" ><label for=\"c2f5d879-07c0-44b7-ba0f-7afc12791859\" class=\"sk-toggleable__label sk-toggleable__label-arrow\">LinearRegression</label><div class=\"sk-toggleable__content\"><pre>LinearRegression()</pre></div></div></div></div></div></div></div></div></div></div></div></div>"
      ],
      "text/plain": [
       "Pipeline(steps=[('preprocessor',\n",
       "                 ColumnTransformer(transformers=[('rob_scaler', RobustScaler(),\n",
       "                                                  ['GapRank', 'GapOdd',\n",
       "                                                   'Best of', 'Month']),\n",
       "                                                 ('encoder',\n",
       "                                                  OneHotEncoder(handle_unknown='ignore',\n",
       "                                                                sparse=False),\n",
       "                                                  ['Location', 'Tournament',\n",
       "                                                   'Series', 'Court', 'Surface',\n",
       "                                                   'Round'])])),\n",
       "                ('classifier',\n",
       "                 BaggingRegressor(base_estimator=LinearRegression()))])"
      ]
     },
     "execution_count": 17,
     "metadata": {},
     "output_type": "execute_result"
    }
   ],
   "source": [
    "categorical_columns = ['Location', 'Tournament', 'Series', 'Court', 'Surface', 'Round']\n",
    "numeric_columns = ['GapRank', 'GapOdd', 'Best of', 'Month']\n",
    "\n",
    "rob_scaler = RobustScaler()\n",
    "ohe = OneHotEncoder(handle_unknown='ignore', sparse=False)\n",
    "\n",
    "# Création du préprocesseur pour les colonnes numériques et catégorielles\n",
    "preprocessor = ColumnTransformer(\n",
    "    transformers=[\n",
    "        ('rob_scaler', rob_scaler, numeric_columns),\n",
    "        ('encoder', ohe, categorical_columns)\n",
    "    ])\n",
    "\n",
    "# Création du pipeline avec le préprocesseur et le classificateur SVC\n",
    "pipeline_bagging = Pipeline(steps=[\n",
    "    ('preprocessor', preprocessor),\n",
    "    ('classifier', BaggingRegressor(LinearRegression()))\n",
    "])\n",
    "\n",
    "pipeline_bagging"
   ]
  },
  {
   "cell_type": "code",
   "execution_count": null,
   "metadata": {},
   "outputs": [
    {
     "name": "stdout",
     "output_type": "stream",
     "text": [
      "0.2835975237979652\n",
      "0.2733126222759088\n",
      "rmse train : 4.562743285943345\n",
      "rmse test : 4.866836226763719\n"
     ]
    }
   ],
   "source": [
    "pipeline_bagging.fit(X_train, y_train)\n",
    "\n",
    "y_train_pred=pipeline_bagging.predict(X_train)\n",
    "y_test_pred=pipeline_bagging.predict(X_test)\n",
    "\n",
    "print(pipeline_bagging.score(X_train,y_train))\n",
    "print(pipeline_bagging.score(X_test,y_test))\n",
    "print(\"rmse train :\", (mean_squared_error(y_train,y_train_pred))**0.5)\n",
    "print(\"rmse test :\", (mean_squared_error(y_test,y_test_pred))**0.5)"
   ]
  },
  {
   "cell_type": "code",
   "execution_count": null,
   "metadata": {},
   "outputs": [],
   "source": [
    "df_pred['bagging']=pipeline_bagging.predict(X_test)"
   ]
  },
  {
   "attachments": {},
   "cell_type": "markdown",
   "metadata": {},
   "source": [
    "#### Linear Regression"
   ]
  },
  {
   "cell_type": "code",
   "execution_count": null,
   "metadata": {},
   "outputs": [
    {
     "data": {
      "text/html": [
       "<style>#sk-f9daffe4-c2e2-441e-bc78-11b7b4bf8243 {color: black;background-color: white;}#sk-f9daffe4-c2e2-441e-bc78-11b7b4bf8243 pre{padding: 0;}#sk-f9daffe4-c2e2-441e-bc78-11b7b4bf8243 div.sk-toggleable {background-color: white;}#sk-f9daffe4-c2e2-441e-bc78-11b7b4bf8243 label.sk-toggleable__label {cursor: pointer;display: block;width: 100%;margin-bottom: 0;padding: 0.3em;box-sizing: border-box;text-align: center;}#sk-f9daffe4-c2e2-441e-bc78-11b7b4bf8243 label.sk-toggleable__label-arrow:before {content: \"▸\";float: left;margin-right: 0.25em;color: #696969;}#sk-f9daffe4-c2e2-441e-bc78-11b7b4bf8243 label.sk-toggleable__label-arrow:hover:before {color: black;}#sk-f9daffe4-c2e2-441e-bc78-11b7b4bf8243 div.sk-estimator:hover label.sk-toggleable__label-arrow:before {color: black;}#sk-f9daffe4-c2e2-441e-bc78-11b7b4bf8243 div.sk-toggleable__content {max-height: 0;max-width: 0;overflow: hidden;text-align: left;background-color: #f0f8ff;}#sk-f9daffe4-c2e2-441e-bc78-11b7b4bf8243 div.sk-toggleable__content pre {margin: 0.2em;color: black;border-radius: 0.25em;background-color: #f0f8ff;}#sk-f9daffe4-c2e2-441e-bc78-11b7b4bf8243 input.sk-toggleable__control:checked~div.sk-toggleable__content {max-height: 200px;max-width: 100%;overflow: auto;}#sk-f9daffe4-c2e2-441e-bc78-11b7b4bf8243 input.sk-toggleable__control:checked~label.sk-toggleable__label-arrow:before {content: \"▾\";}#sk-f9daffe4-c2e2-441e-bc78-11b7b4bf8243 div.sk-estimator input.sk-toggleable__control:checked~label.sk-toggleable__label {background-color: #d4ebff;}#sk-f9daffe4-c2e2-441e-bc78-11b7b4bf8243 div.sk-label input.sk-toggleable__control:checked~label.sk-toggleable__label {background-color: #d4ebff;}#sk-f9daffe4-c2e2-441e-bc78-11b7b4bf8243 input.sk-hidden--visually {border: 0;clip: rect(1px 1px 1px 1px);clip: rect(1px, 1px, 1px, 1px);height: 1px;margin: -1px;overflow: hidden;padding: 0;position: absolute;width: 1px;}#sk-f9daffe4-c2e2-441e-bc78-11b7b4bf8243 div.sk-estimator {font-family: monospace;background-color: #f0f8ff;border: 1px dotted black;border-radius: 0.25em;box-sizing: border-box;margin-bottom: 0.5em;}#sk-f9daffe4-c2e2-441e-bc78-11b7b4bf8243 div.sk-estimator:hover {background-color: #d4ebff;}#sk-f9daffe4-c2e2-441e-bc78-11b7b4bf8243 div.sk-parallel-item::after {content: \"\";width: 100%;border-bottom: 1px solid gray;flex-grow: 1;}#sk-f9daffe4-c2e2-441e-bc78-11b7b4bf8243 div.sk-label:hover label.sk-toggleable__label {background-color: #d4ebff;}#sk-f9daffe4-c2e2-441e-bc78-11b7b4bf8243 div.sk-serial::before {content: \"\";position: absolute;border-left: 1px solid gray;box-sizing: border-box;top: 2em;bottom: 0;left: 50%;}#sk-f9daffe4-c2e2-441e-bc78-11b7b4bf8243 div.sk-serial {display: flex;flex-direction: column;align-items: center;background-color: white;padding-right: 0.2em;padding-left: 0.2em;}#sk-f9daffe4-c2e2-441e-bc78-11b7b4bf8243 div.sk-item {z-index: 1;}#sk-f9daffe4-c2e2-441e-bc78-11b7b4bf8243 div.sk-parallel {display: flex;align-items: stretch;justify-content: center;background-color: white;}#sk-f9daffe4-c2e2-441e-bc78-11b7b4bf8243 div.sk-parallel::before {content: \"\";position: absolute;border-left: 1px solid gray;box-sizing: border-box;top: 2em;bottom: 0;left: 50%;}#sk-f9daffe4-c2e2-441e-bc78-11b7b4bf8243 div.sk-parallel-item {display: flex;flex-direction: column;position: relative;background-color: white;}#sk-f9daffe4-c2e2-441e-bc78-11b7b4bf8243 div.sk-parallel-item:first-child::after {align-self: flex-end;width: 50%;}#sk-f9daffe4-c2e2-441e-bc78-11b7b4bf8243 div.sk-parallel-item:last-child::after {align-self: flex-start;width: 50%;}#sk-f9daffe4-c2e2-441e-bc78-11b7b4bf8243 div.sk-parallel-item:only-child::after {width: 0;}#sk-f9daffe4-c2e2-441e-bc78-11b7b4bf8243 div.sk-dashed-wrapped {border: 1px dashed gray;margin: 0 0.4em 0.5em 0.4em;box-sizing: border-box;padding-bottom: 0.4em;background-color: white;position: relative;}#sk-f9daffe4-c2e2-441e-bc78-11b7b4bf8243 div.sk-label label {font-family: monospace;font-weight: bold;background-color: white;display: inline-block;line-height: 1.2em;}#sk-f9daffe4-c2e2-441e-bc78-11b7b4bf8243 div.sk-label-container {position: relative;z-index: 2;text-align: center;}#sk-f9daffe4-c2e2-441e-bc78-11b7b4bf8243 div.sk-container {/* jupyter's `normalize.less` sets `[hidden] { display: none; }` but bootstrap.min.css set `[hidden] { display: none !important; }` so we also need the `!important` here to be able to override the default hidden behavior on the sphinx rendered scikit-learn.org. See: https://github.com/scikit-learn/scikit-learn/issues/21755 */display: inline-block !important;position: relative;}#sk-f9daffe4-c2e2-441e-bc78-11b7b4bf8243 div.sk-text-repr-fallback {display: none;}</style><div id=\"sk-f9daffe4-c2e2-441e-bc78-11b7b4bf8243\" class=\"sk-top-container\"><div class=\"sk-text-repr-fallback\"><pre>Pipeline(steps=[(&#x27;preprocessor&#x27;,\n",
       "                 ColumnTransformer(transformers=[(&#x27;rob_scaler&#x27;, RobustScaler(),\n",
       "                                                  [&#x27;GapRank&#x27;, &#x27;GapOdd&#x27;,\n",
       "                                                   &#x27;Best of&#x27;, &#x27;Month&#x27;]),\n",
       "                                                 (&#x27;encoder&#x27;,\n",
       "                                                  OneHotEncoder(handle_unknown=&#x27;ignore&#x27;,\n",
       "                                                                sparse=False),\n",
       "                                                  [&#x27;Location&#x27;, &#x27;Tournament&#x27;,\n",
       "                                                   &#x27;Series&#x27;, &#x27;Court&#x27;, &#x27;Surface&#x27;,\n",
       "                                                   &#x27;Round&#x27;])])),\n",
       "                (&#x27;classifier&#x27;, LinearRegression())])</pre><b>Please rerun this cell to show the HTML repr or trust the notebook.</b></div><div class=\"sk-container\" hidden><div class=\"sk-item sk-dashed-wrapped\"><div class=\"sk-label-container\"><div class=\"sk-label sk-toggleable\"><input class=\"sk-toggleable__control sk-hidden--visually\" id=\"0c405c54-3a55-4e21-92e0-6f4d9de5424c\" type=\"checkbox\" ><label for=\"0c405c54-3a55-4e21-92e0-6f4d9de5424c\" class=\"sk-toggleable__label sk-toggleable__label-arrow\">Pipeline</label><div class=\"sk-toggleable__content\"><pre>Pipeline(steps=[(&#x27;preprocessor&#x27;,\n",
       "                 ColumnTransformer(transformers=[(&#x27;rob_scaler&#x27;, RobustScaler(),\n",
       "                                                  [&#x27;GapRank&#x27;, &#x27;GapOdd&#x27;,\n",
       "                                                   &#x27;Best of&#x27;, &#x27;Month&#x27;]),\n",
       "                                                 (&#x27;encoder&#x27;,\n",
       "                                                  OneHotEncoder(handle_unknown=&#x27;ignore&#x27;,\n",
       "                                                                sparse=False),\n",
       "                                                  [&#x27;Location&#x27;, &#x27;Tournament&#x27;,\n",
       "                                                   &#x27;Series&#x27;, &#x27;Court&#x27;, &#x27;Surface&#x27;,\n",
       "                                                   &#x27;Round&#x27;])])),\n",
       "                (&#x27;classifier&#x27;, LinearRegression())])</pre></div></div></div><div class=\"sk-serial\"><div class=\"sk-item sk-dashed-wrapped\"><div class=\"sk-label-container\"><div class=\"sk-label sk-toggleable\"><input class=\"sk-toggleable__control sk-hidden--visually\" id=\"28dcf1c4-05f8-44d7-ba69-eac963ab785a\" type=\"checkbox\" ><label for=\"28dcf1c4-05f8-44d7-ba69-eac963ab785a\" class=\"sk-toggleable__label sk-toggleable__label-arrow\">preprocessor: ColumnTransformer</label><div class=\"sk-toggleable__content\"><pre>ColumnTransformer(transformers=[(&#x27;rob_scaler&#x27;, RobustScaler(),\n",
       "                                 [&#x27;GapRank&#x27;, &#x27;GapOdd&#x27;, &#x27;Best of&#x27;, &#x27;Month&#x27;]),\n",
       "                                (&#x27;encoder&#x27;,\n",
       "                                 OneHotEncoder(handle_unknown=&#x27;ignore&#x27;,\n",
       "                                               sparse=False),\n",
       "                                 [&#x27;Location&#x27;, &#x27;Tournament&#x27;, &#x27;Series&#x27;, &#x27;Court&#x27;,\n",
       "                                  &#x27;Surface&#x27;, &#x27;Round&#x27;])])</pre></div></div></div><div class=\"sk-parallel\"><div class=\"sk-parallel-item\"><div class=\"sk-item\"><div class=\"sk-label-container\"><div class=\"sk-label sk-toggleable\"><input class=\"sk-toggleable__control sk-hidden--visually\" id=\"6d959a94-6a8e-458c-afec-4111435dc4b8\" type=\"checkbox\" ><label for=\"6d959a94-6a8e-458c-afec-4111435dc4b8\" class=\"sk-toggleable__label sk-toggleable__label-arrow\">rob_scaler</label><div class=\"sk-toggleable__content\"><pre>[&#x27;GapRank&#x27;, &#x27;GapOdd&#x27;, &#x27;Best of&#x27;, &#x27;Month&#x27;]</pre></div></div></div><div class=\"sk-serial\"><div class=\"sk-item\"><div class=\"sk-estimator sk-toggleable\"><input class=\"sk-toggleable__control sk-hidden--visually\" id=\"6387aa5a-d7fa-415d-b035-64644632a61e\" type=\"checkbox\" ><label for=\"6387aa5a-d7fa-415d-b035-64644632a61e\" class=\"sk-toggleable__label sk-toggleable__label-arrow\">RobustScaler</label><div class=\"sk-toggleable__content\"><pre>RobustScaler()</pre></div></div></div></div></div></div><div class=\"sk-parallel-item\"><div class=\"sk-item\"><div class=\"sk-label-container\"><div class=\"sk-label sk-toggleable\"><input class=\"sk-toggleable__control sk-hidden--visually\" id=\"6a89f377-5a00-47fd-929c-c6e25a16fb4b\" type=\"checkbox\" ><label for=\"6a89f377-5a00-47fd-929c-c6e25a16fb4b\" class=\"sk-toggleable__label sk-toggleable__label-arrow\">encoder</label><div class=\"sk-toggleable__content\"><pre>[&#x27;Location&#x27;, &#x27;Tournament&#x27;, &#x27;Series&#x27;, &#x27;Court&#x27;, &#x27;Surface&#x27;, &#x27;Round&#x27;]</pre></div></div></div><div class=\"sk-serial\"><div class=\"sk-item\"><div class=\"sk-estimator sk-toggleable\"><input class=\"sk-toggleable__control sk-hidden--visually\" id=\"6f1bc383-2af6-4cd5-8cf5-9cd04d58f4a5\" type=\"checkbox\" ><label for=\"6f1bc383-2af6-4cd5-8cf5-9cd04d58f4a5\" class=\"sk-toggleable__label sk-toggleable__label-arrow\">OneHotEncoder</label><div class=\"sk-toggleable__content\"><pre>OneHotEncoder(handle_unknown=&#x27;ignore&#x27;, sparse=False)</pre></div></div></div></div></div></div></div></div><div class=\"sk-item\"><div class=\"sk-estimator sk-toggleable\"><input class=\"sk-toggleable__control sk-hidden--visually\" id=\"b3457f55-54a0-47b7-880f-676444b44b9d\" type=\"checkbox\" ><label for=\"b3457f55-54a0-47b7-880f-676444b44b9d\" class=\"sk-toggleable__label sk-toggleable__label-arrow\">LinearRegression</label><div class=\"sk-toggleable__content\"><pre>LinearRegression()</pre></div></div></div></div></div></div></div>"
      ],
      "text/plain": [
       "Pipeline(steps=[('preprocessor',\n",
       "                 ColumnTransformer(transformers=[('rob_scaler', RobustScaler(),\n",
       "                                                  ['GapRank', 'GapOdd',\n",
       "                                                   'Best of', 'Month']),\n",
       "                                                 ('encoder',\n",
       "                                                  OneHotEncoder(handle_unknown='ignore',\n",
       "                                                                sparse=False),\n",
       "                                                  ['Location', 'Tournament',\n",
       "                                                   'Series', 'Court', 'Surface',\n",
       "                                                   'Round'])])),\n",
       "                ('classifier', LinearRegression())])"
      ]
     },
     "execution_count": 20,
     "metadata": {},
     "output_type": "execute_result"
    }
   ],
   "source": [
    "categorical_columns = ['Location', 'Tournament', 'Series', 'Court', 'Surface', 'Round']\n",
    "numeric_columns = ['GapRank', 'GapOdd', 'Best of', 'Month']\n",
    "\n",
    "rob_scaler = RobustScaler()\n",
    "ohe = OneHotEncoder(handle_unknown='ignore', sparse=False)\n",
    "\n",
    "# Création du préprocesseur pour les colonnes numériques et catégorielles\n",
    "preprocessor = ColumnTransformer(\n",
    "    transformers=[\n",
    "        ('rob_scaler', rob_scaler, numeric_columns),\n",
    "        ('encoder', ohe, categorical_columns)\n",
    "    ])\n",
    "\n",
    "# Création du pipeline avec le préprocesseur et le classificateur SVC\n",
    "pipeline_linearreg = Pipeline(steps=[\n",
    "    ('preprocessor', preprocessor),\n",
    "    ('classifier', LinearRegression())\n",
    "])\n",
    "\n",
    "pipeline_linearreg"
   ]
  },
  {
   "cell_type": "code",
   "execution_count": null,
   "metadata": {},
   "outputs": [
    {
     "name": "stdout",
     "output_type": "stream",
     "text": [
      "0.2838296162580285\n",
      "0.2735350640616042\n",
      "rmse train : 4.562004131534975\n",
      "rmse test : 4.866091291160803\n"
     ]
    }
   ],
   "source": [
    "pipeline_linearreg.fit(X_train, y_train)\n",
    "\n",
    "y_train_pred=pipeline_linearreg.predict(X_train)\n",
    "y_test_pred=pipeline_linearreg.predict(X_test)\n",
    "\n",
    "print(pipeline_linearreg.score(X_train,y_train))\n",
    "print(pipeline_linearreg.score(X_test,y_test))\n",
    "print(\"rmse train :\", (mean_squared_error(y_train,y_train_pred))**0.5)\n",
    "print(\"rmse test :\", (mean_squared_error(y_test,y_test_pred))**0.5)"
   ]
  },
  {
   "cell_type": "code",
   "execution_count": null,
   "metadata": {},
   "outputs": [],
   "source": [
    "df_pred['linearreg']=pipeline_linearreg.predict(X_test)"
   ]
  },
  {
   "attachments": {},
   "cell_type": "markdown",
   "metadata": {},
   "source": [
    "#### DecisionTree"
   ]
  },
  {
   "cell_type": "code",
   "execution_count": null,
   "metadata": {},
   "outputs": [
    {
     "data": {
      "text/html": [
       "<style>#sk-e3ec370c-a377-4b68-9dfa-9e2172215a45 {color: black;background-color: white;}#sk-e3ec370c-a377-4b68-9dfa-9e2172215a45 pre{padding: 0;}#sk-e3ec370c-a377-4b68-9dfa-9e2172215a45 div.sk-toggleable {background-color: white;}#sk-e3ec370c-a377-4b68-9dfa-9e2172215a45 label.sk-toggleable__label {cursor: pointer;display: block;width: 100%;margin-bottom: 0;padding: 0.3em;box-sizing: border-box;text-align: center;}#sk-e3ec370c-a377-4b68-9dfa-9e2172215a45 label.sk-toggleable__label-arrow:before {content: \"▸\";float: left;margin-right: 0.25em;color: #696969;}#sk-e3ec370c-a377-4b68-9dfa-9e2172215a45 label.sk-toggleable__label-arrow:hover:before {color: black;}#sk-e3ec370c-a377-4b68-9dfa-9e2172215a45 div.sk-estimator:hover label.sk-toggleable__label-arrow:before {color: black;}#sk-e3ec370c-a377-4b68-9dfa-9e2172215a45 div.sk-toggleable__content {max-height: 0;max-width: 0;overflow: hidden;text-align: left;background-color: #f0f8ff;}#sk-e3ec370c-a377-4b68-9dfa-9e2172215a45 div.sk-toggleable__content pre {margin: 0.2em;color: black;border-radius: 0.25em;background-color: #f0f8ff;}#sk-e3ec370c-a377-4b68-9dfa-9e2172215a45 input.sk-toggleable__control:checked~div.sk-toggleable__content {max-height: 200px;max-width: 100%;overflow: auto;}#sk-e3ec370c-a377-4b68-9dfa-9e2172215a45 input.sk-toggleable__control:checked~label.sk-toggleable__label-arrow:before {content: \"▾\";}#sk-e3ec370c-a377-4b68-9dfa-9e2172215a45 div.sk-estimator input.sk-toggleable__control:checked~label.sk-toggleable__label {background-color: #d4ebff;}#sk-e3ec370c-a377-4b68-9dfa-9e2172215a45 div.sk-label input.sk-toggleable__control:checked~label.sk-toggleable__label {background-color: #d4ebff;}#sk-e3ec370c-a377-4b68-9dfa-9e2172215a45 input.sk-hidden--visually {border: 0;clip: rect(1px 1px 1px 1px);clip: rect(1px, 1px, 1px, 1px);height: 1px;margin: -1px;overflow: hidden;padding: 0;position: absolute;width: 1px;}#sk-e3ec370c-a377-4b68-9dfa-9e2172215a45 div.sk-estimator {font-family: monospace;background-color: #f0f8ff;border: 1px dotted black;border-radius: 0.25em;box-sizing: border-box;margin-bottom: 0.5em;}#sk-e3ec370c-a377-4b68-9dfa-9e2172215a45 div.sk-estimator:hover {background-color: #d4ebff;}#sk-e3ec370c-a377-4b68-9dfa-9e2172215a45 div.sk-parallel-item::after {content: \"\";width: 100%;border-bottom: 1px solid gray;flex-grow: 1;}#sk-e3ec370c-a377-4b68-9dfa-9e2172215a45 div.sk-label:hover label.sk-toggleable__label {background-color: #d4ebff;}#sk-e3ec370c-a377-4b68-9dfa-9e2172215a45 div.sk-serial::before {content: \"\";position: absolute;border-left: 1px solid gray;box-sizing: border-box;top: 2em;bottom: 0;left: 50%;}#sk-e3ec370c-a377-4b68-9dfa-9e2172215a45 div.sk-serial {display: flex;flex-direction: column;align-items: center;background-color: white;padding-right: 0.2em;padding-left: 0.2em;}#sk-e3ec370c-a377-4b68-9dfa-9e2172215a45 div.sk-item {z-index: 1;}#sk-e3ec370c-a377-4b68-9dfa-9e2172215a45 div.sk-parallel {display: flex;align-items: stretch;justify-content: center;background-color: white;}#sk-e3ec370c-a377-4b68-9dfa-9e2172215a45 div.sk-parallel::before {content: \"\";position: absolute;border-left: 1px solid gray;box-sizing: border-box;top: 2em;bottom: 0;left: 50%;}#sk-e3ec370c-a377-4b68-9dfa-9e2172215a45 div.sk-parallel-item {display: flex;flex-direction: column;position: relative;background-color: white;}#sk-e3ec370c-a377-4b68-9dfa-9e2172215a45 div.sk-parallel-item:first-child::after {align-self: flex-end;width: 50%;}#sk-e3ec370c-a377-4b68-9dfa-9e2172215a45 div.sk-parallel-item:last-child::after {align-self: flex-start;width: 50%;}#sk-e3ec370c-a377-4b68-9dfa-9e2172215a45 div.sk-parallel-item:only-child::after {width: 0;}#sk-e3ec370c-a377-4b68-9dfa-9e2172215a45 div.sk-dashed-wrapped {border: 1px dashed gray;margin: 0 0.4em 0.5em 0.4em;box-sizing: border-box;padding-bottom: 0.4em;background-color: white;position: relative;}#sk-e3ec370c-a377-4b68-9dfa-9e2172215a45 div.sk-label label {font-family: monospace;font-weight: bold;background-color: white;display: inline-block;line-height: 1.2em;}#sk-e3ec370c-a377-4b68-9dfa-9e2172215a45 div.sk-label-container {position: relative;z-index: 2;text-align: center;}#sk-e3ec370c-a377-4b68-9dfa-9e2172215a45 div.sk-container {/* jupyter's `normalize.less` sets `[hidden] { display: none; }` but bootstrap.min.css set `[hidden] { display: none !important; }` so we also need the `!important` here to be able to override the default hidden behavior on the sphinx rendered scikit-learn.org. See: https://github.com/scikit-learn/scikit-learn/issues/21755 */display: inline-block !important;position: relative;}#sk-e3ec370c-a377-4b68-9dfa-9e2172215a45 div.sk-text-repr-fallback {display: none;}</style><div id=\"sk-e3ec370c-a377-4b68-9dfa-9e2172215a45\" class=\"sk-top-container\"><div class=\"sk-text-repr-fallback\"><pre>Pipeline(steps=[(&#x27;preprocessor&#x27;,\n",
       "                 ColumnTransformer(transformers=[(&#x27;rob_scaler&#x27;, RobustScaler(),\n",
       "                                                  [&#x27;GapRank&#x27;, &#x27;GapOdd&#x27;,\n",
       "                                                   &#x27;Best of&#x27;, &#x27;Month&#x27;]),\n",
       "                                                 (&#x27;encoder&#x27;,\n",
       "                                                  OneHotEncoder(handle_unknown=&#x27;ignore&#x27;,\n",
       "                                                                sparse=False),\n",
       "                                                  [&#x27;Location&#x27;, &#x27;Tournament&#x27;,\n",
       "                                                   &#x27;Series&#x27;, &#x27;Court&#x27;, &#x27;Surface&#x27;,\n",
       "                                                   &#x27;Round&#x27;])])),\n",
       "                (&#x27;classifier&#x27;, DecisionTreeRegressor())])</pre><b>Please rerun this cell to show the HTML repr or trust the notebook.</b></div><div class=\"sk-container\" hidden><div class=\"sk-item sk-dashed-wrapped\"><div class=\"sk-label-container\"><div class=\"sk-label sk-toggleable\"><input class=\"sk-toggleable__control sk-hidden--visually\" id=\"6390b4c7-f194-47d7-a643-e1161bd8e6f7\" type=\"checkbox\" ><label for=\"6390b4c7-f194-47d7-a643-e1161bd8e6f7\" class=\"sk-toggleable__label sk-toggleable__label-arrow\">Pipeline</label><div class=\"sk-toggleable__content\"><pre>Pipeline(steps=[(&#x27;preprocessor&#x27;,\n",
       "                 ColumnTransformer(transformers=[(&#x27;rob_scaler&#x27;, RobustScaler(),\n",
       "                                                  [&#x27;GapRank&#x27;, &#x27;GapOdd&#x27;,\n",
       "                                                   &#x27;Best of&#x27;, &#x27;Month&#x27;]),\n",
       "                                                 (&#x27;encoder&#x27;,\n",
       "                                                  OneHotEncoder(handle_unknown=&#x27;ignore&#x27;,\n",
       "                                                                sparse=False),\n",
       "                                                  [&#x27;Location&#x27;, &#x27;Tournament&#x27;,\n",
       "                                                   &#x27;Series&#x27;, &#x27;Court&#x27;, &#x27;Surface&#x27;,\n",
       "                                                   &#x27;Round&#x27;])])),\n",
       "                (&#x27;classifier&#x27;, DecisionTreeRegressor())])</pre></div></div></div><div class=\"sk-serial\"><div class=\"sk-item sk-dashed-wrapped\"><div class=\"sk-label-container\"><div class=\"sk-label sk-toggleable\"><input class=\"sk-toggleable__control sk-hidden--visually\" id=\"61800ff0-bc09-4872-a76a-c4b77735c8ab\" type=\"checkbox\" ><label for=\"61800ff0-bc09-4872-a76a-c4b77735c8ab\" class=\"sk-toggleable__label sk-toggleable__label-arrow\">preprocessor: ColumnTransformer</label><div class=\"sk-toggleable__content\"><pre>ColumnTransformer(transformers=[(&#x27;rob_scaler&#x27;, RobustScaler(),\n",
       "                                 [&#x27;GapRank&#x27;, &#x27;GapOdd&#x27;, &#x27;Best of&#x27;, &#x27;Month&#x27;]),\n",
       "                                (&#x27;encoder&#x27;,\n",
       "                                 OneHotEncoder(handle_unknown=&#x27;ignore&#x27;,\n",
       "                                               sparse=False),\n",
       "                                 [&#x27;Location&#x27;, &#x27;Tournament&#x27;, &#x27;Series&#x27;, &#x27;Court&#x27;,\n",
       "                                  &#x27;Surface&#x27;, &#x27;Round&#x27;])])</pre></div></div></div><div class=\"sk-parallel\"><div class=\"sk-parallel-item\"><div class=\"sk-item\"><div class=\"sk-label-container\"><div class=\"sk-label sk-toggleable\"><input class=\"sk-toggleable__control sk-hidden--visually\" id=\"499e41d8-880a-42eb-9494-9c7e9a530977\" type=\"checkbox\" ><label for=\"499e41d8-880a-42eb-9494-9c7e9a530977\" class=\"sk-toggleable__label sk-toggleable__label-arrow\">rob_scaler</label><div class=\"sk-toggleable__content\"><pre>[&#x27;GapRank&#x27;, &#x27;GapOdd&#x27;, &#x27;Best of&#x27;, &#x27;Month&#x27;]</pre></div></div></div><div class=\"sk-serial\"><div class=\"sk-item\"><div class=\"sk-estimator sk-toggleable\"><input class=\"sk-toggleable__control sk-hidden--visually\" id=\"c7643ed3-5522-4ea9-aaea-5d73ee5f5876\" type=\"checkbox\" ><label for=\"c7643ed3-5522-4ea9-aaea-5d73ee5f5876\" class=\"sk-toggleable__label sk-toggleable__label-arrow\">RobustScaler</label><div class=\"sk-toggleable__content\"><pre>RobustScaler()</pre></div></div></div></div></div></div><div class=\"sk-parallel-item\"><div class=\"sk-item\"><div class=\"sk-label-container\"><div class=\"sk-label sk-toggleable\"><input class=\"sk-toggleable__control sk-hidden--visually\" id=\"9c1cc74d-00ff-4907-ac3f-27db54324484\" type=\"checkbox\" ><label for=\"9c1cc74d-00ff-4907-ac3f-27db54324484\" class=\"sk-toggleable__label sk-toggleable__label-arrow\">encoder</label><div class=\"sk-toggleable__content\"><pre>[&#x27;Location&#x27;, &#x27;Tournament&#x27;, &#x27;Series&#x27;, &#x27;Court&#x27;, &#x27;Surface&#x27;, &#x27;Round&#x27;]</pre></div></div></div><div class=\"sk-serial\"><div class=\"sk-item\"><div class=\"sk-estimator sk-toggleable\"><input class=\"sk-toggleable__control sk-hidden--visually\" id=\"81db23ae-43e1-44a5-92e5-7f7cf0fc5c03\" type=\"checkbox\" ><label for=\"81db23ae-43e1-44a5-92e5-7f7cf0fc5c03\" class=\"sk-toggleable__label sk-toggleable__label-arrow\">OneHotEncoder</label><div class=\"sk-toggleable__content\"><pre>OneHotEncoder(handle_unknown=&#x27;ignore&#x27;, sparse=False)</pre></div></div></div></div></div></div></div></div><div class=\"sk-item\"><div class=\"sk-estimator sk-toggleable\"><input class=\"sk-toggleable__control sk-hidden--visually\" id=\"d7e1fda4-4213-4c61-b1d4-2b11825259f8\" type=\"checkbox\" ><label for=\"d7e1fda4-4213-4c61-b1d4-2b11825259f8\" class=\"sk-toggleable__label sk-toggleable__label-arrow\">DecisionTreeRegressor</label><div class=\"sk-toggleable__content\"><pre>DecisionTreeRegressor()</pre></div></div></div></div></div></div></div>"
      ],
      "text/plain": [
       "Pipeline(steps=[('preprocessor',\n",
       "                 ColumnTransformer(transformers=[('rob_scaler', RobustScaler(),\n",
       "                                                  ['GapRank', 'GapOdd',\n",
       "                                                   'Best of', 'Month']),\n",
       "                                                 ('encoder',\n",
       "                                                  OneHotEncoder(handle_unknown='ignore',\n",
       "                                                                sparse=False),\n",
       "                                                  ['Location', 'Tournament',\n",
       "                                                   'Series', 'Court', 'Surface',\n",
       "                                                   'Round'])])),\n",
       "                ('classifier', DecisionTreeRegressor())])"
      ]
     },
     "execution_count": 23,
     "metadata": {},
     "output_type": "execute_result"
    }
   ],
   "source": [
    "categorical_columns = ['Location', 'Tournament', 'Series', 'Court', 'Surface', 'Round']\n",
    "numeric_columns = ['GapRank', 'GapOdd', 'Best of', 'Month']\n",
    "\n",
    "rob_scaler = RobustScaler()\n",
    "ohe = OneHotEncoder(handle_unknown='ignore', sparse=False)\n",
    "\n",
    "# Création du préprocesseur pour les colonnes numériques et catégorielles\n",
    "preprocessor = ColumnTransformer(\n",
    "    transformers=[\n",
    "        ('rob_scaler', rob_scaler, numeric_columns),\n",
    "        ('encoder', ohe, categorical_columns)\n",
    "    ])\n",
    "\n",
    "# Création du pipeline avec le préprocesseur et le classificateur SVC\n",
    "pipeline_dt = Pipeline(steps=[\n",
    "    ('preprocessor', preprocessor),\n",
    "    ('classifier', DecisionTreeRegressor())\n",
    "])\n",
    "\n",
    "pipeline_dt"
   ]
  },
  {
   "cell_type": "code",
   "execution_count": null,
   "metadata": {},
   "outputs": [
    {
     "name": "stdout",
     "output_type": "stream",
     "text": [
      "0.9824533751590979\n",
      "-0.3810437437575056\n",
      "rmse train : 0.7140757601968265\n",
      "rmse test : 6.70929119071967\n"
     ]
    }
   ],
   "source": [
    "pipeline_dt.fit(X_train, y_train)\n",
    "\n",
    "y_train_pred=pipeline_dt.predict(X_train)\n",
    "y_test_pred=pipeline_dt.predict(X_test)\n",
    "\n",
    "print(pipeline_dt.score(X_train,y_train))\n",
    "print(pipeline_dt.score(X_test,y_test))\n",
    "print(\"rmse train :\", (mean_squared_error(y_train,y_train_pred))**0.5)\n",
    "print(\"rmse test :\", (mean_squared_error(y_test,y_test_pred))**0.5)"
   ]
  },
  {
   "cell_type": "code",
   "execution_count": null,
   "metadata": {},
   "outputs": [],
   "source": [
    "df_pred['decisiontree']=pipeline_dt.predict(X_test)"
   ]
  },
  {
   "attachments": {},
   "cell_type": "markdown",
   "metadata": {},
   "source": [
    "#### RandomForest"
   ]
  },
  {
   "cell_type": "code",
   "execution_count": null,
   "metadata": {},
   "outputs": [
    {
     "data": {
      "text/html": [
       "<style>#sk-57d5d6e4-c447-41a9-96d4-78c1d56f80a2 {color: black;background-color: white;}#sk-57d5d6e4-c447-41a9-96d4-78c1d56f80a2 pre{padding: 0;}#sk-57d5d6e4-c447-41a9-96d4-78c1d56f80a2 div.sk-toggleable {background-color: white;}#sk-57d5d6e4-c447-41a9-96d4-78c1d56f80a2 label.sk-toggleable__label {cursor: pointer;display: block;width: 100%;margin-bottom: 0;padding: 0.3em;box-sizing: border-box;text-align: center;}#sk-57d5d6e4-c447-41a9-96d4-78c1d56f80a2 label.sk-toggleable__label-arrow:before {content: \"▸\";float: left;margin-right: 0.25em;color: #696969;}#sk-57d5d6e4-c447-41a9-96d4-78c1d56f80a2 label.sk-toggleable__label-arrow:hover:before {color: black;}#sk-57d5d6e4-c447-41a9-96d4-78c1d56f80a2 div.sk-estimator:hover label.sk-toggleable__label-arrow:before {color: black;}#sk-57d5d6e4-c447-41a9-96d4-78c1d56f80a2 div.sk-toggleable__content {max-height: 0;max-width: 0;overflow: hidden;text-align: left;background-color: #f0f8ff;}#sk-57d5d6e4-c447-41a9-96d4-78c1d56f80a2 div.sk-toggleable__content pre {margin: 0.2em;color: black;border-radius: 0.25em;background-color: #f0f8ff;}#sk-57d5d6e4-c447-41a9-96d4-78c1d56f80a2 input.sk-toggleable__control:checked~div.sk-toggleable__content {max-height: 200px;max-width: 100%;overflow: auto;}#sk-57d5d6e4-c447-41a9-96d4-78c1d56f80a2 input.sk-toggleable__control:checked~label.sk-toggleable__label-arrow:before {content: \"▾\";}#sk-57d5d6e4-c447-41a9-96d4-78c1d56f80a2 div.sk-estimator input.sk-toggleable__control:checked~label.sk-toggleable__label {background-color: #d4ebff;}#sk-57d5d6e4-c447-41a9-96d4-78c1d56f80a2 div.sk-label input.sk-toggleable__control:checked~label.sk-toggleable__label {background-color: #d4ebff;}#sk-57d5d6e4-c447-41a9-96d4-78c1d56f80a2 input.sk-hidden--visually {border: 0;clip: rect(1px 1px 1px 1px);clip: rect(1px, 1px, 1px, 1px);height: 1px;margin: -1px;overflow: hidden;padding: 0;position: absolute;width: 1px;}#sk-57d5d6e4-c447-41a9-96d4-78c1d56f80a2 div.sk-estimator {font-family: monospace;background-color: #f0f8ff;border: 1px dotted black;border-radius: 0.25em;box-sizing: border-box;margin-bottom: 0.5em;}#sk-57d5d6e4-c447-41a9-96d4-78c1d56f80a2 div.sk-estimator:hover {background-color: #d4ebff;}#sk-57d5d6e4-c447-41a9-96d4-78c1d56f80a2 div.sk-parallel-item::after {content: \"\";width: 100%;border-bottom: 1px solid gray;flex-grow: 1;}#sk-57d5d6e4-c447-41a9-96d4-78c1d56f80a2 div.sk-label:hover label.sk-toggleable__label {background-color: #d4ebff;}#sk-57d5d6e4-c447-41a9-96d4-78c1d56f80a2 div.sk-serial::before {content: \"\";position: absolute;border-left: 1px solid gray;box-sizing: border-box;top: 2em;bottom: 0;left: 50%;}#sk-57d5d6e4-c447-41a9-96d4-78c1d56f80a2 div.sk-serial {display: flex;flex-direction: column;align-items: center;background-color: white;padding-right: 0.2em;padding-left: 0.2em;}#sk-57d5d6e4-c447-41a9-96d4-78c1d56f80a2 div.sk-item {z-index: 1;}#sk-57d5d6e4-c447-41a9-96d4-78c1d56f80a2 div.sk-parallel {display: flex;align-items: stretch;justify-content: center;background-color: white;}#sk-57d5d6e4-c447-41a9-96d4-78c1d56f80a2 div.sk-parallel::before {content: \"\";position: absolute;border-left: 1px solid gray;box-sizing: border-box;top: 2em;bottom: 0;left: 50%;}#sk-57d5d6e4-c447-41a9-96d4-78c1d56f80a2 div.sk-parallel-item {display: flex;flex-direction: column;position: relative;background-color: white;}#sk-57d5d6e4-c447-41a9-96d4-78c1d56f80a2 div.sk-parallel-item:first-child::after {align-self: flex-end;width: 50%;}#sk-57d5d6e4-c447-41a9-96d4-78c1d56f80a2 div.sk-parallel-item:last-child::after {align-self: flex-start;width: 50%;}#sk-57d5d6e4-c447-41a9-96d4-78c1d56f80a2 div.sk-parallel-item:only-child::after {width: 0;}#sk-57d5d6e4-c447-41a9-96d4-78c1d56f80a2 div.sk-dashed-wrapped {border: 1px dashed gray;margin: 0 0.4em 0.5em 0.4em;box-sizing: border-box;padding-bottom: 0.4em;background-color: white;position: relative;}#sk-57d5d6e4-c447-41a9-96d4-78c1d56f80a2 div.sk-label label {font-family: monospace;font-weight: bold;background-color: white;display: inline-block;line-height: 1.2em;}#sk-57d5d6e4-c447-41a9-96d4-78c1d56f80a2 div.sk-label-container {position: relative;z-index: 2;text-align: center;}#sk-57d5d6e4-c447-41a9-96d4-78c1d56f80a2 div.sk-container {/* jupyter's `normalize.less` sets `[hidden] { display: none; }` but bootstrap.min.css set `[hidden] { display: none !important; }` so we also need the `!important` here to be able to override the default hidden behavior on the sphinx rendered scikit-learn.org. See: https://github.com/scikit-learn/scikit-learn/issues/21755 */display: inline-block !important;position: relative;}#sk-57d5d6e4-c447-41a9-96d4-78c1d56f80a2 div.sk-text-repr-fallback {display: none;}</style><div id=\"sk-57d5d6e4-c447-41a9-96d4-78c1d56f80a2\" class=\"sk-top-container\"><div class=\"sk-text-repr-fallback\"><pre>Pipeline(steps=[(&#x27;preprocessor&#x27;,\n",
       "                 ColumnTransformer(transformers=[(&#x27;rob_scaler&#x27;, RobustScaler(),\n",
       "                                                  [&#x27;GapRank&#x27;, &#x27;GapOdd&#x27;,\n",
       "                                                   &#x27;Best of&#x27;, &#x27;Month&#x27;]),\n",
       "                                                 (&#x27;encoder&#x27;,\n",
       "                                                  OneHotEncoder(handle_unknown=&#x27;ignore&#x27;,\n",
       "                                                                sparse=False),\n",
       "                                                  [&#x27;Location&#x27;, &#x27;Tournament&#x27;,\n",
       "                                                   &#x27;Series&#x27;, &#x27;Court&#x27;, &#x27;Surface&#x27;,\n",
       "                                                   &#x27;Round&#x27;])])),\n",
       "                (&#x27;regressor&#x27;, RandomForestRegressor())])</pre><b>Please rerun this cell to show the HTML repr or trust the notebook.</b></div><div class=\"sk-container\" hidden><div class=\"sk-item sk-dashed-wrapped\"><div class=\"sk-label-container\"><div class=\"sk-label sk-toggleable\"><input class=\"sk-toggleable__control sk-hidden--visually\" id=\"fd90de65-4a03-45f5-9361-931b66b5f1d1\" type=\"checkbox\" ><label for=\"fd90de65-4a03-45f5-9361-931b66b5f1d1\" class=\"sk-toggleable__label sk-toggleable__label-arrow\">Pipeline</label><div class=\"sk-toggleable__content\"><pre>Pipeline(steps=[(&#x27;preprocessor&#x27;,\n",
       "                 ColumnTransformer(transformers=[(&#x27;rob_scaler&#x27;, RobustScaler(),\n",
       "                                                  [&#x27;GapRank&#x27;, &#x27;GapOdd&#x27;,\n",
       "                                                   &#x27;Best of&#x27;, &#x27;Month&#x27;]),\n",
       "                                                 (&#x27;encoder&#x27;,\n",
       "                                                  OneHotEncoder(handle_unknown=&#x27;ignore&#x27;,\n",
       "                                                                sparse=False),\n",
       "                                                  [&#x27;Location&#x27;, &#x27;Tournament&#x27;,\n",
       "                                                   &#x27;Series&#x27;, &#x27;Court&#x27;, &#x27;Surface&#x27;,\n",
       "                                                   &#x27;Round&#x27;])])),\n",
       "                (&#x27;regressor&#x27;, RandomForestRegressor())])</pre></div></div></div><div class=\"sk-serial\"><div class=\"sk-item sk-dashed-wrapped\"><div class=\"sk-label-container\"><div class=\"sk-label sk-toggleable\"><input class=\"sk-toggleable__control sk-hidden--visually\" id=\"cac072e5-8248-4648-9e43-3d5fcd75c4ca\" type=\"checkbox\" ><label for=\"cac072e5-8248-4648-9e43-3d5fcd75c4ca\" class=\"sk-toggleable__label sk-toggleable__label-arrow\">preprocessor: ColumnTransformer</label><div class=\"sk-toggleable__content\"><pre>ColumnTransformer(transformers=[(&#x27;rob_scaler&#x27;, RobustScaler(),\n",
       "                                 [&#x27;GapRank&#x27;, &#x27;GapOdd&#x27;, &#x27;Best of&#x27;, &#x27;Month&#x27;]),\n",
       "                                (&#x27;encoder&#x27;,\n",
       "                                 OneHotEncoder(handle_unknown=&#x27;ignore&#x27;,\n",
       "                                               sparse=False),\n",
       "                                 [&#x27;Location&#x27;, &#x27;Tournament&#x27;, &#x27;Series&#x27;, &#x27;Court&#x27;,\n",
       "                                  &#x27;Surface&#x27;, &#x27;Round&#x27;])])</pre></div></div></div><div class=\"sk-parallel\"><div class=\"sk-parallel-item\"><div class=\"sk-item\"><div class=\"sk-label-container\"><div class=\"sk-label sk-toggleable\"><input class=\"sk-toggleable__control sk-hidden--visually\" id=\"0a182eb2-b029-45a2-abab-94441539b2e5\" type=\"checkbox\" ><label for=\"0a182eb2-b029-45a2-abab-94441539b2e5\" class=\"sk-toggleable__label sk-toggleable__label-arrow\">rob_scaler</label><div class=\"sk-toggleable__content\"><pre>[&#x27;GapRank&#x27;, &#x27;GapOdd&#x27;, &#x27;Best of&#x27;, &#x27;Month&#x27;]</pre></div></div></div><div class=\"sk-serial\"><div class=\"sk-item\"><div class=\"sk-estimator sk-toggleable\"><input class=\"sk-toggleable__control sk-hidden--visually\" id=\"16ac5a5b-fc7b-4f74-862d-e1efe72cffc1\" type=\"checkbox\" ><label for=\"16ac5a5b-fc7b-4f74-862d-e1efe72cffc1\" class=\"sk-toggleable__label sk-toggleable__label-arrow\">RobustScaler</label><div class=\"sk-toggleable__content\"><pre>RobustScaler()</pre></div></div></div></div></div></div><div class=\"sk-parallel-item\"><div class=\"sk-item\"><div class=\"sk-label-container\"><div class=\"sk-label sk-toggleable\"><input class=\"sk-toggleable__control sk-hidden--visually\" id=\"3c4b9827-4dd0-4fc6-8f18-cac88b4b1765\" type=\"checkbox\" ><label for=\"3c4b9827-4dd0-4fc6-8f18-cac88b4b1765\" class=\"sk-toggleable__label sk-toggleable__label-arrow\">encoder</label><div class=\"sk-toggleable__content\"><pre>[&#x27;Location&#x27;, &#x27;Tournament&#x27;, &#x27;Series&#x27;, &#x27;Court&#x27;, &#x27;Surface&#x27;, &#x27;Round&#x27;]</pre></div></div></div><div class=\"sk-serial\"><div class=\"sk-item\"><div class=\"sk-estimator sk-toggleable\"><input class=\"sk-toggleable__control sk-hidden--visually\" id=\"7410aeea-3b1e-4f8a-a5ab-5339f83f3ad6\" type=\"checkbox\" ><label for=\"7410aeea-3b1e-4f8a-a5ab-5339f83f3ad6\" class=\"sk-toggleable__label sk-toggleable__label-arrow\">OneHotEncoder</label><div class=\"sk-toggleable__content\"><pre>OneHotEncoder(handle_unknown=&#x27;ignore&#x27;, sparse=False)</pre></div></div></div></div></div></div></div></div><div class=\"sk-item\"><div class=\"sk-estimator sk-toggleable\"><input class=\"sk-toggleable__control sk-hidden--visually\" id=\"6085082c-23d1-4c02-b6d4-71df6e5e6b69\" type=\"checkbox\" ><label for=\"6085082c-23d1-4c02-b6d4-71df6e5e6b69\" class=\"sk-toggleable__label sk-toggleable__label-arrow\">RandomForestRegressor</label><div class=\"sk-toggleable__content\"><pre>RandomForestRegressor()</pre></div></div></div></div></div></div></div>"
      ],
      "text/plain": [
       "Pipeline(steps=[('preprocessor',\n",
       "                 ColumnTransformer(transformers=[('rob_scaler', RobustScaler(),\n",
       "                                                  ['GapRank', 'GapOdd',\n",
       "                                                   'Best of', 'Month']),\n",
       "                                                 ('encoder',\n",
       "                                                  OneHotEncoder(handle_unknown='ignore',\n",
       "                                                                sparse=False),\n",
       "                                                  ['Location', 'Tournament',\n",
       "                                                   'Series', 'Court', 'Surface',\n",
       "                                                   'Round'])])),\n",
       "                ('regressor', RandomForestRegressor())])"
      ]
     },
     "execution_count": 26,
     "metadata": {},
     "output_type": "execute_result"
    }
   ],
   "source": [
    "categorical_columns = ['Location', 'Tournament', 'Series', 'Court', 'Surface', 'Round']\n",
    "numeric_columns = ['GapRank', 'GapOdd', 'Best of', 'Month']\n",
    "\n",
    "rob_scaler = RobustScaler()\n",
    "ohe = OneHotEncoder(handle_unknown='ignore', sparse=False)\n",
    "\n",
    "# Création du préprocesseur pour les colonnes numériques et catégorielles\n",
    "preprocessor = ColumnTransformer(\n",
    "    transformers=[\n",
    "        ('rob_scaler', rob_scaler, numeric_columns),\n",
    "        ('encoder', ohe, categorical_columns)\n",
    "    ])\n",
    "\n",
    "# Création du pipeline avec le préprocesseur et le classificateur SVC\n",
    "pipeline_rf = Pipeline(steps=[\n",
    "    ('preprocessor', preprocessor),\n",
    "    ('regressor', RandomForestRegressor())\n",
    "])\n",
    "\n",
    "pipeline_rf"
   ]
  },
  {
   "cell_type": "code",
   "execution_count": null,
   "metadata": {},
   "outputs": [
    {
     "name": "stdout",
     "output_type": "stream",
     "text": [
      "0.8737168782369734\n",
      "0.1851538255698184\n",
      "rmse train : 1.9156675831844925\n",
      "rmse test : 5.153600376606351\n"
     ]
    }
   ],
   "source": [
    "pipeline_rf.fit(X_train, y_train)\n",
    "\n",
    "y_train_pred=pipeline_rf.predict(X_train)\n",
    "y_test_pred=pipeline_rf.predict(X_test)\n",
    "\n",
    "print(pipeline_rf.score(X_train,y_train))\n",
    "print(pipeline_rf.score(X_test,y_test))\n",
    "print(\"rmse train :\", (mean_squared_error(y_train,y_train_pred))**0.5)\n",
    "print(\"rmse test :\", (mean_squared_error(y_test,y_test_pred))**0.5)"
   ]
  },
  {
   "cell_type": "code",
   "execution_count": null,
   "metadata": {},
   "outputs": [],
   "source": [
    "df_pred['randomforest']=pipeline_rf.predict(X_test)"
   ]
  },
  {
   "attachments": {},
   "cell_type": "markdown",
   "metadata": {},
   "source": [
    "#### GradientBoosting"
   ]
  },
  {
   "cell_type": "code",
   "execution_count": null,
   "metadata": {},
   "outputs": [
    {
     "data": {
      "text/html": [
       "<style>#sk-22233eb7-4e9e-4992-a15a-b87e8715cb00 {color: black;background-color: white;}#sk-22233eb7-4e9e-4992-a15a-b87e8715cb00 pre{padding: 0;}#sk-22233eb7-4e9e-4992-a15a-b87e8715cb00 div.sk-toggleable {background-color: white;}#sk-22233eb7-4e9e-4992-a15a-b87e8715cb00 label.sk-toggleable__label {cursor: pointer;display: block;width: 100%;margin-bottom: 0;padding: 0.3em;box-sizing: border-box;text-align: center;}#sk-22233eb7-4e9e-4992-a15a-b87e8715cb00 label.sk-toggleable__label-arrow:before {content: \"▸\";float: left;margin-right: 0.25em;color: #696969;}#sk-22233eb7-4e9e-4992-a15a-b87e8715cb00 label.sk-toggleable__label-arrow:hover:before {color: black;}#sk-22233eb7-4e9e-4992-a15a-b87e8715cb00 div.sk-estimator:hover label.sk-toggleable__label-arrow:before {color: black;}#sk-22233eb7-4e9e-4992-a15a-b87e8715cb00 div.sk-toggleable__content {max-height: 0;max-width: 0;overflow: hidden;text-align: left;background-color: #f0f8ff;}#sk-22233eb7-4e9e-4992-a15a-b87e8715cb00 div.sk-toggleable__content pre {margin: 0.2em;color: black;border-radius: 0.25em;background-color: #f0f8ff;}#sk-22233eb7-4e9e-4992-a15a-b87e8715cb00 input.sk-toggleable__control:checked~div.sk-toggleable__content {max-height: 200px;max-width: 100%;overflow: auto;}#sk-22233eb7-4e9e-4992-a15a-b87e8715cb00 input.sk-toggleable__control:checked~label.sk-toggleable__label-arrow:before {content: \"▾\";}#sk-22233eb7-4e9e-4992-a15a-b87e8715cb00 div.sk-estimator input.sk-toggleable__control:checked~label.sk-toggleable__label {background-color: #d4ebff;}#sk-22233eb7-4e9e-4992-a15a-b87e8715cb00 div.sk-label input.sk-toggleable__control:checked~label.sk-toggleable__label {background-color: #d4ebff;}#sk-22233eb7-4e9e-4992-a15a-b87e8715cb00 input.sk-hidden--visually {border: 0;clip: rect(1px 1px 1px 1px);clip: rect(1px, 1px, 1px, 1px);height: 1px;margin: -1px;overflow: hidden;padding: 0;position: absolute;width: 1px;}#sk-22233eb7-4e9e-4992-a15a-b87e8715cb00 div.sk-estimator {font-family: monospace;background-color: #f0f8ff;border: 1px dotted black;border-radius: 0.25em;box-sizing: border-box;margin-bottom: 0.5em;}#sk-22233eb7-4e9e-4992-a15a-b87e8715cb00 div.sk-estimator:hover {background-color: #d4ebff;}#sk-22233eb7-4e9e-4992-a15a-b87e8715cb00 div.sk-parallel-item::after {content: \"\";width: 100%;border-bottom: 1px solid gray;flex-grow: 1;}#sk-22233eb7-4e9e-4992-a15a-b87e8715cb00 div.sk-label:hover label.sk-toggleable__label {background-color: #d4ebff;}#sk-22233eb7-4e9e-4992-a15a-b87e8715cb00 div.sk-serial::before {content: \"\";position: absolute;border-left: 1px solid gray;box-sizing: border-box;top: 2em;bottom: 0;left: 50%;}#sk-22233eb7-4e9e-4992-a15a-b87e8715cb00 div.sk-serial {display: flex;flex-direction: column;align-items: center;background-color: white;padding-right: 0.2em;padding-left: 0.2em;}#sk-22233eb7-4e9e-4992-a15a-b87e8715cb00 div.sk-item {z-index: 1;}#sk-22233eb7-4e9e-4992-a15a-b87e8715cb00 div.sk-parallel {display: flex;align-items: stretch;justify-content: center;background-color: white;}#sk-22233eb7-4e9e-4992-a15a-b87e8715cb00 div.sk-parallel::before {content: \"\";position: absolute;border-left: 1px solid gray;box-sizing: border-box;top: 2em;bottom: 0;left: 50%;}#sk-22233eb7-4e9e-4992-a15a-b87e8715cb00 div.sk-parallel-item {display: flex;flex-direction: column;position: relative;background-color: white;}#sk-22233eb7-4e9e-4992-a15a-b87e8715cb00 div.sk-parallel-item:first-child::after {align-self: flex-end;width: 50%;}#sk-22233eb7-4e9e-4992-a15a-b87e8715cb00 div.sk-parallel-item:last-child::after {align-self: flex-start;width: 50%;}#sk-22233eb7-4e9e-4992-a15a-b87e8715cb00 div.sk-parallel-item:only-child::after {width: 0;}#sk-22233eb7-4e9e-4992-a15a-b87e8715cb00 div.sk-dashed-wrapped {border: 1px dashed gray;margin: 0 0.4em 0.5em 0.4em;box-sizing: border-box;padding-bottom: 0.4em;background-color: white;position: relative;}#sk-22233eb7-4e9e-4992-a15a-b87e8715cb00 div.sk-label label {font-family: monospace;font-weight: bold;background-color: white;display: inline-block;line-height: 1.2em;}#sk-22233eb7-4e9e-4992-a15a-b87e8715cb00 div.sk-label-container {position: relative;z-index: 2;text-align: center;}#sk-22233eb7-4e9e-4992-a15a-b87e8715cb00 div.sk-container {/* jupyter's `normalize.less` sets `[hidden] { display: none; }` but bootstrap.min.css set `[hidden] { display: none !important; }` so we also need the `!important` here to be able to override the default hidden behavior on the sphinx rendered scikit-learn.org. See: https://github.com/scikit-learn/scikit-learn/issues/21755 */display: inline-block !important;position: relative;}#sk-22233eb7-4e9e-4992-a15a-b87e8715cb00 div.sk-text-repr-fallback {display: none;}</style><div id=\"sk-22233eb7-4e9e-4992-a15a-b87e8715cb00\" class=\"sk-top-container\"><div class=\"sk-text-repr-fallback\"><pre>Pipeline(steps=[(&#x27;preprocessor&#x27;,\n",
       "                 ColumnTransformer(transformers=[(&#x27;rob_scaler&#x27;, RobustScaler(),\n",
       "                                                  [&#x27;GapRank&#x27;, &#x27;GapOdd&#x27;,\n",
       "                                                   &#x27;Best of&#x27;, &#x27;Month&#x27;]),\n",
       "                                                 (&#x27;encoder&#x27;,\n",
       "                                                  OneHotEncoder(handle_unknown=&#x27;ignore&#x27;,\n",
       "                                                                sparse=False),\n",
       "                                                  [&#x27;Location&#x27;, &#x27;Tournament&#x27;,\n",
       "                                                   &#x27;Series&#x27;, &#x27;Court&#x27;, &#x27;Surface&#x27;,\n",
       "                                                   &#x27;Round&#x27;])])),\n",
       "                (&#x27;regressor&#x27;, GradientBoostingRegressor())])</pre><b>Please rerun this cell to show the HTML repr or trust the notebook.</b></div><div class=\"sk-container\" hidden><div class=\"sk-item sk-dashed-wrapped\"><div class=\"sk-label-container\"><div class=\"sk-label sk-toggleable\"><input class=\"sk-toggleable__control sk-hidden--visually\" id=\"08862c18-db51-41cc-96df-c96933b136e2\" type=\"checkbox\" ><label for=\"08862c18-db51-41cc-96df-c96933b136e2\" class=\"sk-toggleable__label sk-toggleable__label-arrow\">Pipeline</label><div class=\"sk-toggleable__content\"><pre>Pipeline(steps=[(&#x27;preprocessor&#x27;,\n",
       "                 ColumnTransformer(transformers=[(&#x27;rob_scaler&#x27;, RobustScaler(),\n",
       "                                                  [&#x27;GapRank&#x27;, &#x27;GapOdd&#x27;,\n",
       "                                                   &#x27;Best of&#x27;, &#x27;Month&#x27;]),\n",
       "                                                 (&#x27;encoder&#x27;,\n",
       "                                                  OneHotEncoder(handle_unknown=&#x27;ignore&#x27;,\n",
       "                                                                sparse=False),\n",
       "                                                  [&#x27;Location&#x27;, &#x27;Tournament&#x27;,\n",
       "                                                   &#x27;Series&#x27;, &#x27;Court&#x27;, &#x27;Surface&#x27;,\n",
       "                                                   &#x27;Round&#x27;])])),\n",
       "                (&#x27;regressor&#x27;, GradientBoostingRegressor())])</pre></div></div></div><div class=\"sk-serial\"><div class=\"sk-item sk-dashed-wrapped\"><div class=\"sk-label-container\"><div class=\"sk-label sk-toggleable\"><input class=\"sk-toggleable__control sk-hidden--visually\" id=\"c5d5cc4b-413b-4289-931c-c2a93b0aff35\" type=\"checkbox\" ><label for=\"c5d5cc4b-413b-4289-931c-c2a93b0aff35\" class=\"sk-toggleable__label sk-toggleable__label-arrow\">preprocessor: ColumnTransformer</label><div class=\"sk-toggleable__content\"><pre>ColumnTransformer(transformers=[(&#x27;rob_scaler&#x27;, RobustScaler(),\n",
       "                                 [&#x27;GapRank&#x27;, &#x27;GapOdd&#x27;, &#x27;Best of&#x27;, &#x27;Month&#x27;]),\n",
       "                                (&#x27;encoder&#x27;,\n",
       "                                 OneHotEncoder(handle_unknown=&#x27;ignore&#x27;,\n",
       "                                               sparse=False),\n",
       "                                 [&#x27;Location&#x27;, &#x27;Tournament&#x27;, &#x27;Series&#x27;, &#x27;Court&#x27;,\n",
       "                                  &#x27;Surface&#x27;, &#x27;Round&#x27;])])</pre></div></div></div><div class=\"sk-parallel\"><div class=\"sk-parallel-item\"><div class=\"sk-item\"><div class=\"sk-label-container\"><div class=\"sk-label sk-toggleable\"><input class=\"sk-toggleable__control sk-hidden--visually\" id=\"b6874909-8c6e-4c74-b6c8-293082bbcb53\" type=\"checkbox\" ><label for=\"b6874909-8c6e-4c74-b6c8-293082bbcb53\" class=\"sk-toggleable__label sk-toggleable__label-arrow\">rob_scaler</label><div class=\"sk-toggleable__content\"><pre>[&#x27;GapRank&#x27;, &#x27;GapOdd&#x27;, &#x27;Best of&#x27;, &#x27;Month&#x27;]</pre></div></div></div><div class=\"sk-serial\"><div class=\"sk-item\"><div class=\"sk-estimator sk-toggleable\"><input class=\"sk-toggleable__control sk-hidden--visually\" id=\"3adb372a-b3e3-46d6-a732-be155076d884\" type=\"checkbox\" ><label for=\"3adb372a-b3e3-46d6-a732-be155076d884\" class=\"sk-toggleable__label sk-toggleable__label-arrow\">RobustScaler</label><div class=\"sk-toggleable__content\"><pre>RobustScaler()</pre></div></div></div></div></div></div><div class=\"sk-parallel-item\"><div class=\"sk-item\"><div class=\"sk-label-container\"><div class=\"sk-label sk-toggleable\"><input class=\"sk-toggleable__control sk-hidden--visually\" id=\"7d1f5728-9024-477a-98da-834921229465\" type=\"checkbox\" ><label for=\"7d1f5728-9024-477a-98da-834921229465\" class=\"sk-toggleable__label sk-toggleable__label-arrow\">encoder</label><div class=\"sk-toggleable__content\"><pre>[&#x27;Location&#x27;, &#x27;Tournament&#x27;, &#x27;Series&#x27;, &#x27;Court&#x27;, &#x27;Surface&#x27;, &#x27;Round&#x27;]</pre></div></div></div><div class=\"sk-serial\"><div class=\"sk-item\"><div class=\"sk-estimator sk-toggleable\"><input class=\"sk-toggleable__control sk-hidden--visually\" id=\"c3203c7b-1843-443f-83b3-ecbe81929694\" type=\"checkbox\" ><label for=\"c3203c7b-1843-443f-83b3-ecbe81929694\" class=\"sk-toggleable__label sk-toggleable__label-arrow\">OneHotEncoder</label><div class=\"sk-toggleable__content\"><pre>OneHotEncoder(handle_unknown=&#x27;ignore&#x27;, sparse=False)</pre></div></div></div></div></div></div></div></div><div class=\"sk-item\"><div class=\"sk-estimator sk-toggleable\"><input class=\"sk-toggleable__control sk-hidden--visually\" id=\"77e5c6fc-6c3a-4e3f-b2e9-21136baabeb4\" type=\"checkbox\" ><label for=\"77e5c6fc-6c3a-4e3f-b2e9-21136baabeb4\" class=\"sk-toggleable__label sk-toggleable__label-arrow\">GradientBoostingRegressor</label><div class=\"sk-toggleable__content\"><pre>GradientBoostingRegressor()</pre></div></div></div></div></div></div></div>"
      ],
      "text/plain": [
       "Pipeline(steps=[('preprocessor',\n",
       "                 ColumnTransformer(transformers=[('rob_scaler', RobustScaler(),\n",
       "                                                  ['GapRank', 'GapOdd',\n",
       "                                                   'Best of', 'Month']),\n",
       "                                                 ('encoder',\n",
       "                                                  OneHotEncoder(handle_unknown='ignore',\n",
       "                                                                sparse=False),\n",
       "                                                  ['Location', 'Tournament',\n",
       "                                                   'Series', 'Court', 'Surface',\n",
       "                                                   'Round'])])),\n",
       "                ('regressor', GradientBoostingRegressor())])"
      ]
     },
     "execution_count": 29,
     "metadata": {},
     "output_type": "execute_result"
    }
   ],
   "source": [
    "categorical_columns = ['Location', 'Tournament', 'Series', 'Court', 'Surface', 'Round']\n",
    "numeric_columns = ['GapRank', 'GapOdd', 'Best of', 'Month']\n",
    "\n",
    "rob_scaler = RobustScaler()\n",
    "ohe = OneHotEncoder(handle_unknown='ignore', sparse=False)\n",
    "\n",
    "# Création du préprocesseur pour les colonnes numériques et catégorielles\n",
    "preprocessor = ColumnTransformer(\n",
    "    transformers=[\n",
    "        ('rob_scaler', rob_scaler, numeric_columns),\n",
    "        ('encoder', ohe, categorical_columns)\n",
    "    ])\n",
    "\n",
    "# Création du pipeline avec le préprocesseur et le classificateur SVC\n",
    "pipeline_gradientboosting = Pipeline(steps=[\n",
    "    ('preprocessor', preprocessor),\n",
    "    ('regressor', GradientBoostingRegressor())\n",
    "])\n",
    "\n",
    "pipeline_gradientboosting"
   ]
  },
  {
   "cell_type": "code",
   "execution_count": null,
   "metadata": {},
   "outputs": [
    {
     "name": "stdout",
     "output_type": "stream",
     "text": [
      "0.30283868245077594\n",
      "0.2829000228727546\n",
      "rmse train : 4.501053101187998\n",
      "rmse test : 4.834624828535755\n"
     ]
    }
   ],
   "source": [
    "pipeline_gradientboosting.fit(X_train, y_train)\n",
    "\n",
    "y_train_pred=pipeline_gradientboosting.predict(X_train)\n",
    "y_test_pred=pipeline_gradientboosting.predict(X_test)\n",
    "\n",
    "print(pipeline_gradientboosting.score(X_train,y_train))\n",
    "print(pipeline_gradientboosting.score(X_test,y_test))\n",
    "print(\"rmse train :\", (mean_squared_error(y_train,y_train_pred))**0.5)\n",
    "print(\"rmse test :\", (mean_squared_error(y_test,y_test_pred))**0.5)"
   ]
  },
  {
   "cell_type": "code",
   "execution_count": null,
   "metadata": {},
   "outputs": [],
   "source": [
    "df_pred['gradientboosting']=pipeline_gradientboosting.predict(X_test)"
   ]
  },
  {
   "attachments": {},
   "cell_type": "markdown",
   "metadata": {},
   "source": [
    "#### SGD Regressor"
   ]
  },
  {
   "cell_type": "code",
   "execution_count": null,
   "metadata": {},
   "outputs": [
    {
     "data": {
      "text/html": [
       "<style>#sk-a61e5b9b-af57-4798-a165-75003ace6eb1 {color: black;background-color: white;}#sk-a61e5b9b-af57-4798-a165-75003ace6eb1 pre{padding: 0;}#sk-a61e5b9b-af57-4798-a165-75003ace6eb1 div.sk-toggleable {background-color: white;}#sk-a61e5b9b-af57-4798-a165-75003ace6eb1 label.sk-toggleable__label {cursor: pointer;display: block;width: 100%;margin-bottom: 0;padding: 0.3em;box-sizing: border-box;text-align: center;}#sk-a61e5b9b-af57-4798-a165-75003ace6eb1 label.sk-toggleable__label-arrow:before {content: \"▸\";float: left;margin-right: 0.25em;color: #696969;}#sk-a61e5b9b-af57-4798-a165-75003ace6eb1 label.sk-toggleable__label-arrow:hover:before {color: black;}#sk-a61e5b9b-af57-4798-a165-75003ace6eb1 div.sk-estimator:hover label.sk-toggleable__label-arrow:before {color: black;}#sk-a61e5b9b-af57-4798-a165-75003ace6eb1 div.sk-toggleable__content {max-height: 0;max-width: 0;overflow: hidden;text-align: left;background-color: #f0f8ff;}#sk-a61e5b9b-af57-4798-a165-75003ace6eb1 div.sk-toggleable__content pre {margin: 0.2em;color: black;border-radius: 0.25em;background-color: #f0f8ff;}#sk-a61e5b9b-af57-4798-a165-75003ace6eb1 input.sk-toggleable__control:checked~div.sk-toggleable__content {max-height: 200px;max-width: 100%;overflow: auto;}#sk-a61e5b9b-af57-4798-a165-75003ace6eb1 input.sk-toggleable__control:checked~label.sk-toggleable__label-arrow:before {content: \"▾\";}#sk-a61e5b9b-af57-4798-a165-75003ace6eb1 div.sk-estimator input.sk-toggleable__control:checked~label.sk-toggleable__label {background-color: #d4ebff;}#sk-a61e5b9b-af57-4798-a165-75003ace6eb1 div.sk-label input.sk-toggleable__control:checked~label.sk-toggleable__label {background-color: #d4ebff;}#sk-a61e5b9b-af57-4798-a165-75003ace6eb1 input.sk-hidden--visually {border: 0;clip: rect(1px 1px 1px 1px);clip: rect(1px, 1px, 1px, 1px);height: 1px;margin: -1px;overflow: hidden;padding: 0;position: absolute;width: 1px;}#sk-a61e5b9b-af57-4798-a165-75003ace6eb1 div.sk-estimator {font-family: monospace;background-color: #f0f8ff;border: 1px dotted black;border-radius: 0.25em;box-sizing: border-box;margin-bottom: 0.5em;}#sk-a61e5b9b-af57-4798-a165-75003ace6eb1 div.sk-estimator:hover {background-color: #d4ebff;}#sk-a61e5b9b-af57-4798-a165-75003ace6eb1 div.sk-parallel-item::after {content: \"\";width: 100%;border-bottom: 1px solid gray;flex-grow: 1;}#sk-a61e5b9b-af57-4798-a165-75003ace6eb1 div.sk-label:hover label.sk-toggleable__label {background-color: #d4ebff;}#sk-a61e5b9b-af57-4798-a165-75003ace6eb1 div.sk-serial::before {content: \"\";position: absolute;border-left: 1px solid gray;box-sizing: border-box;top: 2em;bottom: 0;left: 50%;}#sk-a61e5b9b-af57-4798-a165-75003ace6eb1 div.sk-serial {display: flex;flex-direction: column;align-items: center;background-color: white;padding-right: 0.2em;padding-left: 0.2em;}#sk-a61e5b9b-af57-4798-a165-75003ace6eb1 div.sk-item {z-index: 1;}#sk-a61e5b9b-af57-4798-a165-75003ace6eb1 div.sk-parallel {display: flex;align-items: stretch;justify-content: center;background-color: white;}#sk-a61e5b9b-af57-4798-a165-75003ace6eb1 div.sk-parallel::before {content: \"\";position: absolute;border-left: 1px solid gray;box-sizing: border-box;top: 2em;bottom: 0;left: 50%;}#sk-a61e5b9b-af57-4798-a165-75003ace6eb1 div.sk-parallel-item {display: flex;flex-direction: column;position: relative;background-color: white;}#sk-a61e5b9b-af57-4798-a165-75003ace6eb1 div.sk-parallel-item:first-child::after {align-self: flex-end;width: 50%;}#sk-a61e5b9b-af57-4798-a165-75003ace6eb1 div.sk-parallel-item:last-child::after {align-self: flex-start;width: 50%;}#sk-a61e5b9b-af57-4798-a165-75003ace6eb1 div.sk-parallel-item:only-child::after {width: 0;}#sk-a61e5b9b-af57-4798-a165-75003ace6eb1 div.sk-dashed-wrapped {border: 1px dashed gray;margin: 0 0.4em 0.5em 0.4em;box-sizing: border-box;padding-bottom: 0.4em;background-color: white;position: relative;}#sk-a61e5b9b-af57-4798-a165-75003ace6eb1 div.sk-label label {font-family: monospace;font-weight: bold;background-color: white;display: inline-block;line-height: 1.2em;}#sk-a61e5b9b-af57-4798-a165-75003ace6eb1 div.sk-label-container {position: relative;z-index: 2;text-align: center;}#sk-a61e5b9b-af57-4798-a165-75003ace6eb1 div.sk-container {/* jupyter's `normalize.less` sets `[hidden] { display: none; }` but bootstrap.min.css set `[hidden] { display: none !important; }` so we also need the `!important` here to be able to override the default hidden behavior on the sphinx rendered scikit-learn.org. See: https://github.com/scikit-learn/scikit-learn/issues/21755 */display: inline-block !important;position: relative;}#sk-a61e5b9b-af57-4798-a165-75003ace6eb1 div.sk-text-repr-fallback {display: none;}</style><div id=\"sk-a61e5b9b-af57-4798-a165-75003ace6eb1\" class=\"sk-top-container\"><div class=\"sk-text-repr-fallback\"><pre>Pipeline(steps=[(&#x27;preprocessor&#x27;,\n",
       "                 ColumnTransformer(transformers=[(&#x27;rob_scaler&#x27;, RobustScaler(),\n",
       "                                                  [&#x27;GapRank&#x27;, &#x27;GapOdd&#x27;,\n",
       "                                                   &#x27;Best of&#x27;, &#x27;Month&#x27;]),\n",
       "                                                 (&#x27;encoder&#x27;,\n",
       "                                                  OneHotEncoder(handle_unknown=&#x27;ignore&#x27;,\n",
       "                                                                sparse=False),\n",
       "                                                  [&#x27;Location&#x27;, &#x27;Tournament&#x27;,\n",
       "                                                   &#x27;Series&#x27;, &#x27;Court&#x27;, &#x27;Surface&#x27;,\n",
       "                                                   &#x27;Round&#x27;])])),\n",
       "                (&#x27;regressor&#x27;, SGDRegressor())])</pre><b>Please rerun this cell to show the HTML repr or trust the notebook.</b></div><div class=\"sk-container\" hidden><div class=\"sk-item sk-dashed-wrapped\"><div class=\"sk-label-container\"><div class=\"sk-label sk-toggleable\"><input class=\"sk-toggleable__control sk-hidden--visually\" id=\"4dfbbcdf-a0ff-4728-8603-44edb457af00\" type=\"checkbox\" ><label for=\"4dfbbcdf-a0ff-4728-8603-44edb457af00\" class=\"sk-toggleable__label sk-toggleable__label-arrow\">Pipeline</label><div class=\"sk-toggleable__content\"><pre>Pipeline(steps=[(&#x27;preprocessor&#x27;,\n",
       "                 ColumnTransformer(transformers=[(&#x27;rob_scaler&#x27;, RobustScaler(),\n",
       "                                                  [&#x27;GapRank&#x27;, &#x27;GapOdd&#x27;,\n",
       "                                                   &#x27;Best of&#x27;, &#x27;Month&#x27;]),\n",
       "                                                 (&#x27;encoder&#x27;,\n",
       "                                                  OneHotEncoder(handle_unknown=&#x27;ignore&#x27;,\n",
       "                                                                sparse=False),\n",
       "                                                  [&#x27;Location&#x27;, &#x27;Tournament&#x27;,\n",
       "                                                   &#x27;Series&#x27;, &#x27;Court&#x27;, &#x27;Surface&#x27;,\n",
       "                                                   &#x27;Round&#x27;])])),\n",
       "                (&#x27;regressor&#x27;, SGDRegressor())])</pre></div></div></div><div class=\"sk-serial\"><div class=\"sk-item sk-dashed-wrapped\"><div class=\"sk-label-container\"><div class=\"sk-label sk-toggleable\"><input class=\"sk-toggleable__control sk-hidden--visually\" id=\"bac3b313-18ee-43a9-b7e0-2d3a50ed0765\" type=\"checkbox\" ><label for=\"bac3b313-18ee-43a9-b7e0-2d3a50ed0765\" class=\"sk-toggleable__label sk-toggleable__label-arrow\">preprocessor: ColumnTransformer</label><div class=\"sk-toggleable__content\"><pre>ColumnTransformer(transformers=[(&#x27;rob_scaler&#x27;, RobustScaler(),\n",
       "                                 [&#x27;GapRank&#x27;, &#x27;GapOdd&#x27;, &#x27;Best of&#x27;, &#x27;Month&#x27;]),\n",
       "                                (&#x27;encoder&#x27;,\n",
       "                                 OneHotEncoder(handle_unknown=&#x27;ignore&#x27;,\n",
       "                                               sparse=False),\n",
       "                                 [&#x27;Location&#x27;, &#x27;Tournament&#x27;, &#x27;Series&#x27;, &#x27;Court&#x27;,\n",
       "                                  &#x27;Surface&#x27;, &#x27;Round&#x27;])])</pre></div></div></div><div class=\"sk-parallel\"><div class=\"sk-parallel-item\"><div class=\"sk-item\"><div class=\"sk-label-container\"><div class=\"sk-label sk-toggleable\"><input class=\"sk-toggleable__control sk-hidden--visually\" id=\"3b95f3ea-69af-4384-99bb-b8baa34d73cf\" type=\"checkbox\" ><label for=\"3b95f3ea-69af-4384-99bb-b8baa34d73cf\" class=\"sk-toggleable__label sk-toggleable__label-arrow\">rob_scaler</label><div class=\"sk-toggleable__content\"><pre>[&#x27;GapRank&#x27;, &#x27;GapOdd&#x27;, &#x27;Best of&#x27;, &#x27;Month&#x27;]</pre></div></div></div><div class=\"sk-serial\"><div class=\"sk-item\"><div class=\"sk-estimator sk-toggleable\"><input class=\"sk-toggleable__control sk-hidden--visually\" id=\"f81aab53-e0da-43c3-b998-2fab5c6665a0\" type=\"checkbox\" ><label for=\"f81aab53-e0da-43c3-b998-2fab5c6665a0\" class=\"sk-toggleable__label sk-toggleable__label-arrow\">RobustScaler</label><div class=\"sk-toggleable__content\"><pre>RobustScaler()</pre></div></div></div></div></div></div><div class=\"sk-parallel-item\"><div class=\"sk-item\"><div class=\"sk-label-container\"><div class=\"sk-label sk-toggleable\"><input class=\"sk-toggleable__control sk-hidden--visually\" id=\"57893f09-b646-402d-89bd-0699c55f9ea4\" type=\"checkbox\" ><label for=\"57893f09-b646-402d-89bd-0699c55f9ea4\" class=\"sk-toggleable__label sk-toggleable__label-arrow\">encoder</label><div class=\"sk-toggleable__content\"><pre>[&#x27;Location&#x27;, &#x27;Tournament&#x27;, &#x27;Series&#x27;, &#x27;Court&#x27;, &#x27;Surface&#x27;, &#x27;Round&#x27;]</pre></div></div></div><div class=\"sk-serial\"><div class=\"sk-item\"><div class=\"sk-estimator sk-toggleable\"><input class=\"sk-toggleable__control sk-hidden--visually\" id=\"366acab5-e2e7-436c-b4f2-32dc70b684f5\" type=\"checkbox\" ><label for=\"366acab5-e2e7-436c-b4f2-32dc70b684f5\" class=\"sk-toggleable__label sk-toggleable__label-arrow\">OneHotEncoder</label><div class=\"sk-toggleable__content\"><pre>OneHotEncoder(handle_unknown=&#x27;ignore&#x27;, sparse=False)</pre></div></div></div></div></div></div></div></div><div class=\"sk-item\"><div class=\"sk-estimator sk-toggleable\"><input class=\"sk-toggleable__control sk-hidden--visually\" id=\"968b4b2a-75e5-413c-bbab-1d8b88cfa987\" type=\"checkbox\" ><label for=\"968b4b2a-75e5-413c-bbab-1d8b88cfa987\" class=\"sk-toggleable__label sk-toggleable__label-arrow\">SGDRegressor</label><div class=\"sk-toggleable__content\"><pre>SGDRegressor()</pre></div></div></div></div></div></div></div>"
      ],
      "text/plain": [
       "Pipeline(steps=[('preprocessor',\n",
       "                 ColumnTransformer(transformers=[('rob_scaler', RobustScaler(),\n",
       "                                                  ['GapRank', 'GapOdd',\n",
       "                                                   'Best of', 'Month']),\n",
       "                                                 ('encoder',\n",
       "                                                  OneHotEncoder(handle_unknown='ignore',\n",
       "                                                                sparse=False),\n",
       "                                                  ['Location', 'Tournament',\n",
       "                                                   'Series', 'Court', 'Surface',\n",
       "                                                   'Round'])])),\n",
       "                ('regressor', SGDRegressor())])"
      ]
     },
     "execution_count": 32,
     "metadata": {},
     "output_type": "execute_result"
    }
   ],
   "source": [
    "categorical_columns = ['Location', 'Tournament', 'Series', 'Court', 'Surface', 'Round']\n",
    "numeric_columns = ['GapRank', 'GapOdd', 'Best of', 'Month']\n",
    "\n",
    "rob_scaler = RobustScaler()\n",
    "ohe = OneHotEncoder(handle_unknown='ignore', sparse=False)\n",
    "\n",
    "# Création du préprocesseur pour les colonnes numériques et catégorielles\n",
    "preprocessor = ColumnTransformer(\n",
    "    transformers=[\n",
    "        ('rob_scaler', rob_scaler, numeric_columns),\n",
    "        ('encoder', ohe, categorical_columns)\n",
    "    ])\n",
    "\n",
    "# Création du pipeline avec le préprocesseur et le classificateur SVC\n",
    "pipeline_sgd = Pipeline(steps=[\n",
    "    ('preprocessor', preprocessor),\n",
    "    ('regressor', SGDRegressor())\n",
    "])\n",
    "\n",
    "pipeline_sgd"
   ]
  },
  {
   "cell_type": "code",
   "execution_count": null,
   "metadata": {},
   "outputs": [
    {
     "name": "stdout",
     "output_type": "stream",
     "text": [
      "0.28214114470219986\n",
      "0.2726470710292265\n",
      "rmse train : 4.567378746024662\n",
      "rmse test : 4.86906441160736\n"
     ]
    }
   ],
   "source": [
    "pipeline_sgd.fit(X_train, y_train)\n",
    "\n",
    "y_train_pred=pipeline_sgd.predict(X_train)\n",
    "y_test_pred=pipeline_sgd.predict(X_test)\n",
    "\n",
    "print(pipeline_sgd.score(X_train,y_train))\n",
    "print(pipeline_sgd.score(X_test,y_test))\n",
    "print(\"rmse train :\", (mean_squared_error(y_train,y_train_pred))**0.5)\n",
    "print(\"rmse test :\", (mean_squared_error(y_test,y_test_pred))**0.5)"
   ]
  },
  {
   "cell_type": "code",
   "execution_count": null,
   "metadata": {},
   "outputs": [],
   "source": [
    "df_pred['sgd']=pipeline_sgd.predict(X_test)"
   ]
  },
  {
   "cell_type": "code",
   "execution_count": null,
   "metadata": {},
   "outputs": [],
   "source": []
  },
  {
   "cell_type": "code",
   "execution_count": null,
   "metadata": {},
   "outputs": [],
   "source": []
  },
  {
   "cell_type": "code",
   "execution_count": null,
   "metadata": {},
   "outputs": [],
   "source": []
  },
  {
   "attachments": {},
   "cell_type": "markdown",
   "metadata": {},
   "source": [
    "#### Comparatifs prédictions"
   ]
  },
  {
   "cell_type": "code",
   "execution_count": null,
   "metadata": {},
   "outputs": [
    {
     "data": {
      "text/html": [
       "<div>\n",
       "<style scoped>\n",
       "    .dataframe tbody tr th:only-of-type {\n",
       "        vertical-align: middle;\n",
       "    }\n",
       "\n",
       "    .dataframe tbody tr th {\n",
       "        vertical-align: top;\n",
       "    }\n",
       "\n",
       "    .dataframe thead th {\n",
       "        text-align: right;\n",
       "    }\n",
       "</style>\n",
       "<table border=\"1\" class=\"dataframe\">\n",
       "  <thead>\n",
       "    <tr style=\"text-align: right;\">\n",
       "      <th></th>\n",
       "      <th>target</th>\n",
       "      <th>voting</th>\n",
       "      <th>adaboost</th>\n",
       "      <th>bagging</th>\n",
       "      <th>linearreg</th>\n",
       "      <th>decisiontree</th>\n",
       "      <th>randomforest</th>\n",
       "      <th>gradientboosting</th>\n",
       "      <th>sgd</th>\n",
       "    </tr>\n",
       "  </thead>\n",
       "  <tbody>\n",
       "    <tr>\n",
       "      <th>count</th>\n",
       "      <td>12630.000000</td>\n",
       "      <td>12630.000000</td>\n",
       "      <td>12630.000000</td>\n",
       "      <td>12630.000000</td>\n",
       "      <td>12630.000000</td>\n",
       "      <td>12630.000000</td>\n",
       "      <td>12630.000000</td>\n",
       "      <td>12630.000000</td>\n",
       "      <td>12630.000000</td>\n",
       "    </tr>\n",
       "    <tr>\n",
       "      <th>mean</th>\n",
       "      <td>21.065400</td>\n",
       "      <td>21.051179</td>\n",
       "      <td>21.991927</td>\n",
       "      <td>21.055228</td>\n",
       "      <td>21.050612</td>\n",
       "      <td>21.065571</td>\n",
       "      <td>21.092532</td>\n",
       "      <td>21.044188</td>\n",
       "      <td>21.116441</td>\n",
       "    </tr>\n",
       "    <tr>\n",
       "      <th>std</th>\n",
       "      <td>5.709395</td>\n",
       "      <td>3.480524</td>\n",
       "      <td>4.394125</td>\n",
       "      <td>2.925972</td>\n",
       "      <td>2.909096</td>\n",
       "      <td>5.580738</td>\n",
       "      <td>3.576270</td>\n",
       "      <td>2.940971</td>\n",
       "      <td>2.849167</td>\n",
       "    </tr>\n",
       "    <tr>\n",
       "      <th>min</th>\n",
       "      <td>12.000000</td>\n",
       "      <td>14.593368</td>\n",
       "      <td>19.256430</td>\n",
       "      <td>9.203500</td>\n",
       "      <td>9.365845</td>\n",
       "      <td>12.000000</td>\n",
       "      <td>14.780000</td>\n",
       "      <td>17.048470</td>\n",
       "      <td>9.595888</td>\n",
       "    </tr>\n",
       "    <tr>\n",
       "      <th>25%</th>\n",
       "      <td>18.000000</td>\n",
       "      <td>19.006552</td>\n",
       "      <td>19.898690</td>\n",
       "      <td>19.463217</td>\n",
       "      <td>19.464100</td>\n",
       "      <td>18.000000</td>\n",
       "      <td>19.110000</td>\n",
       "      <td>19.537864</td>\n",
       "      <td>19.573305</td>\n",
       "    </tr>\n",
       "    <tr>\n",
       "      <th>50%</th>\n",
       "      <td>20.000000</td>\n",
       "      <td>20.097339</td>\n",
       "      <td>20.020975</td>\n",
       "      <td>20.010036</td>\n",
       "      <td>20.000259</td>\n",
       "      <td>20.000000</td>\n",
       "      <td>19.970000</td>\n",
       "      <td>19.914894</td>\n",
       "      <td>20.075146</td>\n",
       "    </tr>\n",
       "    <tr>\n",
       "      <th>75%</th>\n",
       "      <td>22.000000</td>\n",
       "      <td>21.528701</td>\n",
       "      <td>20.020975</td>\n",
       "      <td>20.666766</td>\n",
       "      <td>20.642441</td>\n",
       "      <td>23.000000</td>\n",
       "      <td>21.230000</td>\n",
       "      <td>20.222811</td>\n",
       "      <td>20.681390</td>\n",
       "    </tr>\n",
       "    <tr>\n",
       "      <th>max</th>\n",
       "      <td>170.000000</td>\n",
       "      <td>51.918077</td>\n",
       "      <td>60.829025</td>\n",
       "      <td>29.112448</td>\n",
       "      <td>28.951599</td>\n",
       "      <td>86.000000</td>\n",
       "      <td>52.470000</td>\n",
       "      <td>32.907937</td>\n",
       "      <td>29.909076</td>\n",
       "    </tr>\n",
       "  </tbody>\n",
       "</table>\n",
       "</div>"
      ],
      "text/plain": [
       "             target        voting      adaboost       bagging     linearreg  \\\n",
       "count  12630.000000  12630.000000  12630.000000  12630.000000  12630.000000   \n",
       "mean      21.065400     21.051179     21.991927     21.055228     21.050612   \n",
       "std        5.709395      3.480524      4.394125      2.925972      2.909096   \n",
       "min       12.000000     14.593368     19.256430      9.203500      9.365845   \n",
       "25%       18.000000     19.006552     19.898690     19.463217     19.464100   \n",
       "50%       20.000000     20.097339     20.020975     20.010036     20.000259   \n",
       "75%       22.000000     21.528701     20.020975     20.666766     20.642441   \n",
       "max      170.000000     51.918077     60.829025     29.112448     28.951599   \n",
       "\n",
       "       decisiontree  randomforest  gradientboosting           sgd  \n",
       "count  12630.000000  12630.000000      12630.000000  12630.000000  \n",
       "mean      21.065571     21.092532         21.044188     21.116441  \n",
       "std        5.580738      3.576270          2.940971      2.849167  \n",
       "min       12.000000     14.780000         17.048470      9.595888  \n",
       "25%       18.000000     19.110000         19.537864     19.573305  \n",
       "50%       20.000000     19.970000         19.914894     20.075146  \n",
       "75%       23.000000     21.230000         20.222811     20.681390  \n",
       "max       86.000000     52.470000         32.907937     29.909076  "
      ]
     },
     "execution_count": 41,
     "metadata": {},
     "output_type": "execute_result"
    }
   ],
   "source": [
    "df_pred.describe()"
   ]
  },
  {
   "cell_type": "code",
   "execution_count": null,
   "metadata": {},
   "outputs": [
    {
     "data": {
      "text/plain": [
       "<Axes: >"
      ]
     },
     "execution_count": 44,
     "metadata": {},
     "output_type": "execute_result"
    }
   ],
   "source": [
    "df_pred.boxplot(figsize=(15,8))"
   ]
  },
  {
   "attachments": {},
   "cell_type": "markdown",
   "metadata": {},
   "source": [
    "#### Voting avec AdaBoost, DecisionTree & RandomForest"
   ]
  },
  {
   "cell_type": "code",
   "execution_count": null,
   "metadata": {},
   "outputs": [],
   "source": [
    "algo_voting_2=VotingRegressor(estimators=[\n",
    "    ('ada', AdaBoostRegressor()), \n",
    "    ('dt', DecisionTreeRegressor()),\n",
    "    ('rf', RandomForestRegressor())])"
   ]
  },
  {
   "cell_type": "code",
   "execution_count": null,
   "metadata": {},
   "outputs": [
    {
     "data": {
      "text/html": [
       "<style>#sk-4f5c1867-4211-45b5-99fc-787fb4465a93 {color: black;background-color: white;}#sk-4f5c1867-4211-45b5-99fc-787fb4465a93 pre{padding: 0;}#sk-4f5c1867-4211-45b5-99fc-787fb4465a93 div.sk-toggleable {background-color: white;}#sk-4f5c1867-4211-45b5-99fc-787fb4465a93 label.sk-toggleable__label {cursor: pointer;display: block;width: 100%;margin-bottom: 0;padding: 0.3em;box-sizing: border-box;text-align: center;}#sk-4f5c1867-4211-45b5-99fc-787fb4465a93 label.sk-toggleable__label-arrow:before {content: \"▸\";float: left;margin-right: 0.25em;color: #696969;}#sk-4f5c1867-4211-45b5-99fc-787fb4465a93 label.sk-toggleable__label-arrow:hover:before {color: black;}#sk-4f5c1867-4211-45b5-99fc-787fb4465a93 div.sk-estimator:hover label.sk-toggleable__label-arrow:before {color: black;}#sk-4f5c1867-4211-45b5-99fc-787fb4465a93 div.sk-toggleable__content {max-height: 0;max-width: 0;overflow: hidden;text-align: left;background-color: #f0f8ff;}#sk-4f5c1867-4211-45b5-99fc-787fb4465a93 div.sk-toggleable__content pre {margin: 0.2em;color: black;border-radius: 0.25em;background-color: #f0f8ff;}#sk-4f5c1867-4211-45b5-99fc-787fb4465a93 input.sk-toggleable__control:checked~div.sk-toggleable__content {max-height: 200px;max-width: 100%;overflow: auto;}#sk-4f5c1867-4211-45b5-99fc-787fb4465a93 input.sk-toggleable__control:checked~label.sk-toggleable__label-arrow:before {content: \"▾\";}#sk-4f5c1867-4211-45b5-99fc-787fb4465a93 div.sk-estimator input.sk-toggleable__control:checked~label.sk-toggleable__label {background-color: #d4ebff;}#sk-4f5c1867-4211-45b5-99fc-787fb4465a93 div.sk-label input.sk-toggleable__control:checked~label.sk-toggleable__label {background-color: #d4ebff;}#sk-4f5c1867-4211-45b5-99fc-787fb4465a93 input.sk-hidden--visually {border: 0;clip: rect(1px 1px 1px 1px);clip: rect(1px, 1px, 1px, 1px);height: 1px;margin: -1px;overflow: hidden;padding: 0;position: absolute;width: 1px;}#sk-4f5c1867-4211-45b5-99fc-787fb4465a93 div.sk-estimator {font-family: monospace;background-color: #f0f8ff;border: 1px dotted black;border-radius: 0.25em;box-sizing: border-box;margin-bottom: 0.5em;}#sk-4f5c1867-4211-45b5-99fc-787fb4465a93 div.sk-estimator:hover {background-color: #d4ebff;}#sk-4f5c1867-4211-45b5-99fc-787fb4465a93 div.sk-parallel-item::after {content: \"\";width: 100%;border-bottom: 1px solid gray;flex-grow: 1;}#sk-4f5c1867-4211-45b5-99fc-787fb4465a93 div.sk-label:hover label.sk-toggleable__label {background-color: #d4ebff;}#sk-4f5c1867-4211-45b5-99fc-787fb4465a93 div.sk-serial::before {content: \"\";position: absolute;border-left: 1px solid gray;box-sizing: border-box;top: 2em;bottom: 0;left: 50%;}#sk-4f5c1867-4211-45b5-99fc-787fb4465a93 div.sk-serial {display: flex;flex-direction: column;align-items: center;background-color: white;padding-right: 0.2em;padding-left: 0.2em;}#sk-4f5c1867-4211-45b5-99fc-787fb4465a93 div.sk-item {z-index: 1;}#sk-4f5c1867-4211-45b5-99fc-787fb4465a93 div.sk-parallel {display: flex;align-items: stretch;justify-content: center;background-color: white;}#sk-4f5c1867-4211-45b5-99fc-787fb4465a93 div.sk-parallel::before {content: \"\";position: absolute;border-left: 1px solid gray;box-sizing: border-box;top: 2em;bottom: 0;left: 50%;}#sk-4f5c1867-4211-45b5-99fc-787fb4465a93 div.sk-parallel-item {display: flex;flex-direction: column;position: relative;background-color: white;}#sk-4f5c1867-4211-45b5-99fc-787fb4465a93 div.sk-parallel-item:first-child::after {align-self: flex-end;width: 50%;}#sk-4f5c1867-4211-45b5-99fc-787fb4465a93 div.sk-parallel-item:last-child::after {align-self: flex-start;width: 50%;}#sk-4f5c1867-4211-45b5-99fc-787fb4465a93 div.sk-parallel-item:only-child::after {width: 0;}#sk-4f5c1867-4211-45b5-99fc-787fb4465a93 div.sk-dashed-wrapped {border: 1px dashed gray;margin: 0 0.4em 0.5em 0.4em;box-sizing: border-box;padding-bottom: 0.4em;background-color: white;position: relative;}#sk-4f5c1867-4211-45b5-99fc-787fb4465a93 div.sk-label label {font-family: monospace;font-weight: bold;background-color: white;display: inline-block;line-height: 1.2em;}#sk-4f5c1867-4211-45b5-99fc-787fb4465a93 div.sk-label-container {position: relative;z-index: 2;text-align: center;}#sk-4f5c1867-4211-45b5-99fc-787fb4465a93 div.sk-container {/* jupyter's `normalize.less` sets `[hidden] { display: none; }` but bootstrap.min.css set `[hidden] { display: none !important; }` so we also need the `!important` here to be able to override the default hidden behavior on the sphinx rendered scikit-learn.org. See: https://github.com/scikit-learn/scikit-learn/issues/21755 */display: inline-block !important;position: relative;}#sk-4f5c1867-4211-45b5-99fc-787fb4465a93 div.sk-text-repr-fallback {display: none;}</style><div id=\"sk-4f5c1867-4211-45b5-99fc-787fb4465a93\" class=\"sk-top-container\"><div class=\"sk-text-repr-fallback\"><pre>Pipeline(steps=[(&#x27;preprocessor&#x27;,\n",
       "                 ColumnTransformer(transformers=[(&#x27;rob_scaler&#x27;, RobustScaler(),\n",
       "                                                  [&#x27;GapRank&#x27;, &#x27;GapOdd&#x27;,\n",
       "                                                   &#x27;Best of&#x27;, &#x27;Month&#x27;]),\n",
       "                                                 (&#x27;encoder&#x27;,\n",
       "                                                  OneHotEncoder(handle_unknown=&#x27;ignore&#x27;,\n",
       "                                                                sparse=False),\n",
       "                                                  [&#x27;Location&#x27;, &#x27;Tournament&#x27;,\n",
       "                                                   &#x27;Series&#x27;, &#x27;Court&#x27;, &#x27;Surface&#x27;,\n",
       "                                                   &#x27;Round&#x27;])])),\n",
       "                (&#x27;voting&#x27;,\n",
       "                 VotingRegressor(estimators=[(&#x27;ada&#x27;, AdaBoostRegressor()),\n",
       "                                             (&#x27;dt&#x27;, DecisionTreeRegressor()),\n",
       "                                             (&#x27;rf&#x27;,\n",
       "                                              RandomForestRegressor())]))])</pre><b>Please rerun this cell to show the HTML repr or trust the notebook.</b></div><div class=\"sk-container\" hidden><div class=\"sk-item sk-dashed-wrapped\"><div class=\"sk-label-container\"><div class=\"sk-label sk-toggleable\"><input class=\"sk-toggleable__control sk-hidden--visually\" id=\"dbcef24b-c205-4190-a869-bcc21699e778\" type=\"checkbox\" ><label for=\"dbcef24b-c205-4190-a869-bcc21699e778\" class=\"sk-toggleable__label sk-toggleable__label-arrow\">Pipeline</label><div class=\"sk-toggleable__content\"><pre>Pipeline(steps=[(&#x27;preprocessor&#x27;,\n",
       "                 ColumnTransformer(transformers=[(&#x27;rob_scaler&#x27;, RobustScaler(),\n",
       "                                                  [&#x27;GapRank&#x27;, &#x27;GapOdd&#x27;,\n",
       "                                                   &#x27;Best of&#x27;, &#x27;Month&#x27;]),\n",
       "                                                 (&#x27;encoder&#x27;,\n",
       "                                                  OneHotEncoder(handle_unknown=&#x27;ignore&#x27;,\n",
       "                                                                sparse=False),\n",
       "                                                  [&#x27;Location&#x27;, &#x27;Tournament&#x27;,\n",
       "                                                   &#x27;Series&#x27;, &#x27;Court&#x27;, &#x27;Surface&#x27;,\n",
       "                                                   &#x27;Round&#x27;])])),\n",
       "                (&#x27;voting&#x27;,\n",
       "                 VotingRegressor(estimators=[(&#x27;ada&#x27;, AdaBoostRegressor()),\n",
       "                                             (&#x27;dt&#x27;, DecisionTreeRegressor()),\n",
       "                                             (&#x27;rf&#x27;,\n",
       "                                              RandomForestRegressor())]))])</pre></div></div></div><div class=\"sk-serial\"><div class=\"sk-item sk-dashed-wrapped\"><div class=\"sk-label-container\"><div class=\"sk-label sk-toggleable\"><input class=\"sk-toggleable__control sk-hidden--visually\" id=\"98c0f82d-a09c-4892-8f69-0fa94232a631\" type=\"checkbox\" ><label for=\"98c0f82d-a09c-4892-8f69-0fa94232a631\" class=\"sk-toggleable__label sk-toggleable__label-arrow\">preprocessor: ColumnTransformer</label><div class=\"sk-toggleable__content\"><pre>ColumnTransformer(transformers=[(&#x27;rob_scaler&#x27;, RobustScaler(),\n",
       "                                 [&#x27;GapRank&#x27;, &#x27;GapOdd&#x27;, &#x27;Best of&#x27;, &#x27;Month&#x27;]),\n",
       "                                (&#x27;encoder&#x27;,\n",
       "                                 OneHotEncoder(handle_unknown=&#x27;ignore&#x27;,\n",
       "                                               sparse=False),\n",
       "                                 [&#x27;Location&#x27;, &#x27;Tournament&#x27;, &#x27;Series&#x27;, &#x27;Court&#x27;,\n",
       "                                  &#x27;Surface&#x27;, &#x27;Round&#x27;])])</pre></div></div></div><div class=\"sk-parallel\"><div class=\"sk-parallel-item\"><div class=\"sk-item\"><div class=\"sk-label-container\"><div class=\"sk-label sk-toggleable\"><input class=\"sk-toggleable__control sk-hidden--visually\" id=\"12400d2d-bd35-457d-a743-65362edf1550\" type=\"checkbox\" ><label for=\"12400d2d-bd35-457d-a743-65362edf1550\" class=\"sk-toggleable__label sk-toggleable__label-arrow\">rob_scaler</label><div class=\"sk-toggleable__content\"><pre>[&#x27;GapRank&#x27;, &#x27;GapOdd&#x27;, &#x27;Best of&#x27;, &#x27;Month&#x27;]</pre></div></div></div><div class=\"sk-serial\"><div class=\"sk-item\"><div class=\"sk-estimator sk-toggleable\"><input class=\"sk-toggleable__control sk-hidden--visually\" id=\"5e0b2b53-07dc-41a2-b881-306e770b190b\" type=\"checkbox\" ><label for=\"5e0b2b53-07dc-41a2-b881-306e770b190b\" class=\"sk-toggleable__label sk-toggleable__label-arrow\">RobustScaler</label><div class=\"sk-toggleable__content\"><pre>RobustScaler()</pre></div></div></div></div></div></div><div class=\"sk-parallel-item\"><div class=\"sk-item\"><div class=\"sk-label-container\"><div class=\"sk-label sk-toggleable\"><input class=\"sk-toggleable__control sk-hidden--visually\" id=\"36703091-049d-484a-9d2b-95da8d43880f\" type=\"checkbox\" ><label for=\"36703091-049d-484a-9d2b-95da8d43880f\" class=\"sk-toggleable__label sk-toggleable__label-arrow\">encoder</label><div class=\"sk-toggleable__content\"><pre>[&#x27;Location&#x27;, &#x27;Tournament&#x27;, &#x27;Series&#x27;, &#x27;Court&#x27;, &#x27;Surface&#x27;, &#x27;Round&#x27;]</pre></div></div></div><div class=\"sk-serial\"><div class=\"sk-item\"><div class=\"sk-estimator sk-toggleable\"><input class=\"sk-toggleable__control sk-hidden--visually\" id=\"b5cd3c6f-03cf-4662-81eb-7fe6064b93ca\" type=\"checkbox\" ><label for=\"b5cd3c6f-03cf-4662-81eb-7fe6064b93ca\" class=\"sk-toggleable__label sk-toggleable__label-arrow\">OneHotEncoder</label><div class=\"sk-toggleable__content\"><pre>OneHotEncoder(handle_unknown=&#x27;ignore&#x27;, sparse=False)</pre></div></div></div></div></div></div></div></div><div class=\"sk-item sk-dashed-wrapped\"><div class=\"sk-label-container\"><div class=\"sk-label sk-toggleable\"><input class=\"sk-toggleable__control sk-hidden--visually\" id=\"ddcca99e-0276-4516-88c7-0657ed03ac96\" type=\"checkbox\" ><label for=\"ddcca99e-0276-4516-88c7-0657ed03ac96\" class=\"sk-toggleable__label sk-toggleable__label-arrow\">voting: VotingRegressor</label><div class=\"sk-toggleable__content\"><pre>VotingRegressor(estimators=[(&#x27;ada&#x27;, AdaBoostRegressor()),\n",
       "                            (&#x27;dt&#x27;, DecisionTreeRegressor()),\n",
       "                            (&#x27;rf&#x27;, RandomForestRegressor())])</pre></div></div></div><div class=\"sk-parallel\"><div class=\"sk-parallel-item\"><div class=\"sk-item\"><div class=\"sk-label-container\"><div class=\"sk-label sk-toggleable\"><label>ada</label></div></div><div class=\"sk-serial\"><div class=\"sk-item\"><div class=\"sk-estimator sk-toggleable\"><input class=\"sk-toggleable__control sk-hidden--visually\" id=\"4957c830-815f-4880-9e21-7bbb2fbdc60e\" type=\"checkbox\" ><label for=\"4957c830-815f-4880-9e21-7bbb2fbdc60e\" class=\"sk-toggleable__label sk-toggleable__label-arrow\">AdaBoostRegressor</label><div class=\"sk-toggleable__content\"><pre>AdaBoostRegressor()</pre></div></div></div></div></div></div><div class=\"sk-parallel-item\"><div class=\"sk-item\"><div class=\"sk-label-container\"><div class=\"sk-label sk-toggleable\"><label>dt</label></div></div><div class=\"sk-serial\"><div class=\"sk-item\"><div class=\"sk-estimator sk-toggleable\"><input class=\"sk-toggleable__control sk-hidden--visually\" id=\"dbd72025-c065-45ef-b6ef-8dafd4e472c7\" type=\"checkbox\" ><label for=\"dbd72025-c065-45ef-b6ef-8dafd4e472c7\" class=\"sk-toggleable__label sk-toggleable__label-arrow\">DecisionTreeRegressor</label><div class=\"sk-toggleable__content\"><pre>DecisionTreeRegressor()</pre></div></div></div></div></div></div><div class=\"sk-parallel-item\"><div class=\"sk-item\"><div class=\"sk-label-container\"><div class=\"sk-label sk-toggleable\"><label>rf</label></div></div><div class=\"sk-serial\"><div class=\"sk-item\"><div class=\"sk-estimator sk-toggleable\"><input class=\"sk-toggleable__control sk-hidden--visually\" id=\"764870d7-51bc-404f-8941-f81aa5d8bbc6\" type=\"checkbox\" ><label for=\"764870d7-51bc-404f-8941-f81aa5d8bbc6\" class=\"sk-toggleable__label sk-toggleable__label-arrow\">RandomForestRegressor</label><div class=\"sk-toggleable__content\"><pre>RandomForestRegressor()</pre></div></div></div></div></div></div></div></div></div></div></div></div>"
      ],
      "text/plain": [
       "Pipeline(steps=[('preprocessor',\n",
       "                 ColumnTransformer(transformers=[('rob_scaler', RobustScaler(),\n",
       "                                                  ['GapRank', 'GapOdd',\n",
       "                                                   'Best of', 'Month']),\n",
       "                                                 ('encoder',\n",
       "                                                  OneHotEncoder(handle_unknown='ignore',\n",
       "                                                                sparse=False),\n",
       "                                                  ['Location', 'Tournament',\n",
       "                                                   'Series', 'Court', 'Surface',\n",
       "                                                   'Round'])])),\n",
       "                ('voting',\n",
       "                 VotingRegressor(estimators=[('ada', AdaBoostRegressor()),\n",
       "                                             ('dt', DecisionTreeRegressor()),\n",
       "                                             ('rf',\n",
       "                                              RandomForestRegressor())]))])"
      ]
     },
     "execution_count": 49,
     "metadata": {},
     "output_type": "execute_result"
    }
   ],
   "source": [
    "categorical_columns = ['Location', 'Tournament', 'Series', 'Court', 'Surface', 'Round']\n",
    "numeric_columns = ['GapRank', 'GapOdd', 'Best of', 'Month']\n",
    "\n",
    "rob_scaler = RobustScaler()\n",
    "ohe = OneHotEncoder(handle_unknown='ignore', sparse=False)\n",
    "\n",
    "# Création du préprocesseur pour les colonnes numériques et catégorielles\n",
    "preprocessor = ColumnTransformer(\n",
    "    transformers=[\n",
    "        ('rob_scaler', rob_scaler, numeric_columns),\n",
    "        ('encoder', ohe, categorical_columns)\n",
    "    ])\n",
    "\n",
    "# Création du pipeline avec le préprocesseur et le classificateur SVC\n",
    "pipeline_voting_2 = Pipeline(steps=[\n",
    "    ('preprocessor', preprocessor),\n",
    "    ('voting', algo_voting_2)\n",
    "])\n",
    "\n",
    "pipeline_voting_2"
   ]
  },
  {
   "cell_type": "code",
   "execution_count": null,
   "metadata": {},
   "outputs": [
    {
     "name": "stdout",
     "output_type": "stream",
     "text": [
      "0.8193481866694082\n",
      "0.1537747626512339\n",
      "rmse train : 2.2912298476805333\n",
      "rmse test : 5.251893496394507\n"
     ]
    }
   ],
   "source": [
    "pipeline_voting_2.fit(X_train, y_train)\n",
    "\n",
    "y_train_pred=pipeline_voting_2.predict(X_train)\n",
    "y_test_pred=pipeline_voting_2.predict(X_test)\n",
    "\n",
    "print(pipeline_voting_2.score(X_train,y_train))\n",
    "print(pipeline_voting_2.score(X_test,y_test))\n",
    "print(\"rmse train :\", (mean_squared_error(y_train,y_train_pred))**0.5)\n",
    "print(\"rmse test :\", (mean_squared_error(y_test,y_test_pred))**0.5)"
   ]
  },
  {
   "cell_type": "code",
   "execution_count": null,
   "metadata": {},
   "outputs": [],
   "source": [
    "df_pred['voting_2']=pipeline_voting_2.predict(X_test)"
   ]
  },
  {
   "cell_type": "code",
   "execution_count": null,
   "metadata": {},
   "outputs": [
    {
     "data": {
      "text/html": [
       "<div>\n",
       "<style scoped>\n",
       "    .dataframe tbody tr th:only-of-type {\n",
       "        vertical-align: middle;\n",
       "    }\n",
       "\n",
       "    .dataframe tbody tr th {\n",
       "        vertical-align: top;\n",
       "    }\n",
       "\n",
       "    .dataframe thead th {\n",
       "        text-align: right;\n",
       "    }\n",
       "</style>\n",
       "<table border=\"1\" class=\"dataframe\">\n",
       "  <thead>\n",
       "    <tr style=\"text-align: right;\">\n",
       "      <th></th>\n",
       "      <th>target</th>\n",
       "      <th>voting</th>\n",
       "      <th>adaboost</th>\n",
       "      <th>bagging</th>\n",
       "      <th>linearreg</th>\n",
       "      <th>decisiontree</th>\n",
       "      <th>randomforest</th>\n",
       "      <th>gradientboosting</th>\n",
       "      <th>sgd</th>\n",
       "      <th>voting_2</th>\n",
       "    </tr>\n",
       "  </thead>\n",
       "  <tbody>\n",
       "    <tr>\n",
       "      <th>count</th>\n",
       "      <td>12630.000000</td>\n",
       "      <td>12630.000000</td>\n",
       "      <td>12630.000000</td>\n",
       "      <td>12630.000000</td>\n",
       "      <td>12630.000000</td>\n",
       "      <td>12630.000000</td>\n",
       "      <td>12630.000000</td>\n",
       "      <td>12630.000000</td>\n",
       "      <td>12630.000000</td>\n",
       "      <td>12630.000000</td>\n",
       "    </tr>\n",
       "    <tr>\n",
       "      <th>mean</th>\n",
       "      <td>21.065400</td>\n",
       "      <td>21.051179</td>\n",
       "      <td>21.991927</td>\n",
       "      <td>21.055228</td>\n",
       "      <td>21.050612</td>\n",
       "      <td>21.065571</td>\n",
       "      <td>21.092532</td>\n",
       "      <td>21.044188</td>\n",
       "      <td>21.116441</td>\n",
       "      <td>21.382302</td>\n",
       "    </tr>\n",
       "    <tr>\n",
       "      <th>std</th>\n",
       "      <td>5.709395</td>\n",
       "      <td>3.480524</td>\n",
       "      <td>4.394125</td>\n",
       "      <td>2.925972</td>\n",
       "      <td>2.909096</td>\n",
       "      <td>5.580738</td>\n",
       "      <td>3.576270</td>\n",
       "      <td>2.940971</td>\n",
       "      <td>2.849167</td>\n",
       "      <td>4.009349</td>\n",
       "    </tr>\n",
       "    <tr>\n",
       "      <th>min</th>\n",
       "      <td>12.000000</td>\n",
       "      <td>14.593368</td>\n",
       "      <td>19.256430</td>\n",
       "      <td>9.203500</td>\n",
       "      <td>9.365845</td>\n",
       "      <td>12.000000</td>\n",
       "      <td>14.780000</td>\n",
       "      <td>17.048470</td>\n",
       "      <td>9.595888</td>\n",
       "      <td>15.759243</td>\n",
       "    </tr>\n",
       "    <tr>\n",
       "      <th>25%</th>\n",
       "      <td>18.000000</td>\n",
       "      <td>19.006552</td>\n",
       "      <td>19.898690</td>\n",
       "      <td>19.463217</td>\n",
       "      <td>19.464100</td>\n",
       "      <td>18.000000</td>\n",
       "      <td>19.110000</td>\n",
       "      <td>19.537864</td>\n",
       "      <td>19.573305</td>\n",
       "      <td>19.042775</td>\n",
       "    </tr>\n",
       "    <tr>\n",
       "      <th>50%</th>\n",
       "      <td>20.000000</td>\n",
       "      <td>20.097339</td>\n",
       "      <td>20.020975</td>\n",
       "      <td>20.010036</td>\n",
       "      <td>20.000259</td>\n",
       "      <td>20.000000</td>\n",
       "      <td>19.970000</td>\n",
       "      <td>19.914894</td>\n",
       "      <td>20.075146</td>\n",
       "      <td>20.114429</td>\n",
       "    </tr>\n",
       "    <tr>\n",
       "      <th>75%</th>\n",
       "      <td>22.000000</td>\n",
       "      <td>21.528701</td>\n",
       "      <td>20.020975</td>\n",
       "      <td>20.666766</td>\n",
       "      <td>20.642441</td>\n",
       "      <td>23.000000</td>\n",
       "      <td>21.230000</td>\n",
       "      <td>20.222811</td>\n",
       "      <td>20.681390</td>\n",
       "      <td>21.644060</td>\n",
       "    </tr>\n",
       "    <tr>\n",
       "      <th>max</th>\n",
       "      <td>170.000000</td>\n",
       "      <td>51.918077</td>\n",
       "      <td>60.829025</td>\n",
       "      <td>29.112448</td>\n",
       "      <td>28.951599</td>\n",
       "      <td>86.000000</td>\n",
       "      <td>52.470000</td>\n",
       "      <td>32.907937</td>\n",
       "      <td>29.909076</td>\n",
       "      <td>71.966514</td>\n",
       "    </tr>\n",
       "  </tbody>\n",
       "</table>\n",
       "</div>"
      ],
      "text/plain": [
       "             target        voting      adaboost       bagging     linearreg  \\\n",
       "count  12630.000000  12630.000000  12630.000000  12630.000000  12630.000000   \n",
       "mean      21.065400     21.051179     21.991927     21.055228     21.050612   \n",
       "std        5.709395      3.480524      4.394125      2.925972      2.909096   \n",
       "min       12.000000     14.593368     19.256430      9.203500      9.365845   \n",
       "25%       18.000000     19.006552     19.898690     19.463217     19.464100   \n",
       "50%       20.000000     20.097339     20.020975     20.010036     20.000259   \n",
       "75%       22.000000     21.528701     20.020975     20.666766     20.642441   \n",
       "max      170.000000     51.918077     60.829025     29.112448     28.951599   \n",
       "\n",
       "       decisiontree  randomforest  gradientboosting           sgd  \\\n",
       "count  12630.000000  12630.000000      12630.000000  12630.000000   \n",
       "mean      21.065571     21.092532         21.044188     21.116441   \n",
       "std        5.580738      3.576270          2.940971      2.849167   \n",
       "min       12.000000     14.780000         17.048470      9.595888   \n",
       "25%       18.000000     19.110000         19.537864     19.573305   \n",
       "50%       20.000000     19.970000         19.914894     20.075146   \n",
       "75%       23.000000     21.230000         20.222811     20.681390   \n",
       "max       86.000000     52.470000         32.907937     29.909076   \n",
       "\n",
       "           voting_2  \n",
       "count  12630.000000  \n",
       "mean      21.382302  \n",
       "std        4.009349  \n",
       "min       15.759243  \n",
       "25%       19.042775  \n",
       "50%       20.114429  \n",
       "75%       21.644060  \n",
       "max       71.966514  "
      ]
     },
     "execution_count": 52,
     "metadata": {},
     "output_type": "execute_result"
    }
   ],
   "source": [
    "df_pred.describe()"
   ]
  },
  {
   "cell_type": "code",
   "execution_count": null,
   "metadata": {},
   "outputs": [],
   "source": [
    "df_pred.to_csv('res.csv', index=False)"
   ]
  },
  {
   "cell_type": "code",
   "execution_count": null,
   "metadata": {},
   "outputs": [
    {
     "data": {
      "text/html": [
       "<div>\n",
       "<style scoped>\n",
       "    .dataframe tbody tr th:only-of-type {\n",
       "        vertical-align: middle;\n",
       "    }\n",
       "\n",
       "    .dataframe tbody tr th {\n",
       "        vertical-align: top;\n",
       "    }\n",
       "\n",
       "    .dataframe thead th {\n",
       "        text-align: right;\n",
       "    }\n",
       "</style>\n",
       "<table border=\"1\" class=\"dataframe\">\n",
       "  <thead>\n",
       "    <tr style=\"text-align: right;\">\n",
       "      <th></th>\n",
       "      <th>target</th>\n",
       "      <th>voting</th>\n",
       "      <th>adaboost</th>\n",
       "      <th>bagging</th>\n",
       "      <th>linearreg</th>\n",
       "      <th>decisiontree</th>\n",
       "      <th>randomforest</th>\n",
       "      <th>gradientboosting</th>\n",
       "      <th>sgd</th>\n",
       "      <th>voting_2</th>\n",
       "    </tr>\n",
       "  </thead>\n",
       "  <tbody>\n",
       "    <tr>\n",
       "      <th>0</th>\n",
       "      <td>43.0</td>\n",
       "      <td>24.301164</td>\n",
       "      <td>31.973117</td>\n",
       "      <td>27.734293</td>\n",
       "      <td>27.703491</td>\n",
       "      <td>19.0</td>\n",
       "      <td>28.645833</td>\n",
       "      <td>28.352181</td>\n",
       "      <td>27.674764</td>\n",
       "      <td>25.432509</td>\n",
       "    </tr>\n",
       "    <tr>\n",
       "      <th>1</th>\n",
       "      <td>22.0</td>\n",
       "      <td>17.989172</td>\n",
       "      <td>20.020975</td>\n",
       "      <td>19.882016</td>\n",
       "      <td>19.767517</td>\n",
       "      <td>14.0</td>\n",
       "      <td>18.290000</td>\n",
       "      <td>19.757886</td>\n",
       "      <td>19.869650</td>\n",
       "      <td>17.230246</td>\n",
       "    </tr>\n",
       "    <tr>\n",
       "      <th>2</th>\n",
       "      <td>22.0</td>\n",
       "      <td>19.629237</td>\n",
       "      <td>19.898690</td>\n",
       "      <td>19.906281</td>\n",
       "      <td>19.887711</td>\n",
       "      <td>19.0</td>\n",
       "      <td>20.290000</td>\n",
       "      <td>19.517610</td>\n",
       "      <td>19.892993</td>\n",
       "      <td>19.510726</td>\n",
       "    </tr>\n",
       "    <tr>\n",
       "      <th>3</th>\n",
       "      <td>23.0</td>\n",
       "      <td>21.102065</td>\n",
       "      <td>20.003313</td>\n",
       "      <td>20.471655</td>\n",
       "      <td>20.506195</td>\n",
       "      <td>22.0</td>\n",
       "      <td>21.660000</td>\n",
       "      <td>20.450311</td>\n",
       "      <td>20.461385</td>\n",
       "      <td>21.291465</td>\n",
       "    </tr>\n",
       "    <tr>\n",
       "      <th>4</th>\n",
       "      <td>42.0</td>\n",
       "      <td>29.924422</td>\n",
       "      <td>37.739520</td>\n",
       "      <td>28.010248</td>\n",
       "      <td>27.973267</td>\n",
       "      <td>25.0</td>\n",
       "      <td>34.280000</td>\n",
       "      <td>28.701936</td>\n",
       "      <td>27.884804</td>\n",
       "      <td>33.634392</td>\n",
       "    </tr>\n",
       "    <tr>\n",
       "      <th>...</th>\n",
       "      <td>...</td>\n",
       "      <td>...</td>\n",
       "      <td>...</td>\n",
       "      <td>...</td>\n",
       "      <td>...</td>\n",
       "      <td>...</td>\n",
       "      <td>...</td>\n",
       "      <td>...</td>\n",
       "      <td>...</td>\n",
       "      <td>...</td>\n",
       "    </tr>\n",
       "    <tr>\n",
       "      <th>12625</th>\n",
       "      <td>23.0</td>\n",
       "      <td>19.618307</td>\n",
       "      <td>19.926468</td>\n",
       "      <td>19.556693</td>\n",
       "      <td>19.654922</td>\n",
       "      <td>21.0</td>\n",
       "      <td>19.800000</td>\n",
       "      <td>19.636931</td>\n",
       "      <td>19.678880</td>\n",
       "      <td>20.244067</td>\n",
       "    </tr>\n",
       "    <tr>\n",
       "      <th>12626</th>\n",
       "      <td>20.0</td>\n",
       "      <td>21.671474</td>\n",
       "      <td>20.020975</td>\n",
       "      <td>21.463165</td>\n",
       "      <td>21.814423</td>\n",
       "      <td>22.0</td>\n",
       "      <td>20.400000</td>\n",
       "      <td>20.494243</td>\n",
       "      <td>20.678643</td>\n",
       "      <td>21.134799</td>\n",
       "    </tr>\n",
       "    <tr>\n",
       "      <th>12627</th>\n",
       "      <td>21.0</td>\n",
       "      <td>19.077591</td>\n",
       "      <td>19.967421</td>\n",
       "      <td>20.217288</td>\n",
       "      <td>20.232773</td>\n",
       "      <td>17.0</td>\n",
       "      <td>19.240000</td>\n",
       "      <td>19.936177</td>\n",
       "      <td>20.310592</td>\n",
       "      <td>18.691465</td>\n",
       "    </tr>\n",
       "    <tr>\n",
       "      <th>12628</th>\n",
       "      <td>22.0</td>\n",
       "      <td>20.497418</td>\n",
       "      <td>20.020975</td>\n",
       "      <td>21.177112</td>\n",
       "      <td>21.092255</td>\n",
       "      <td>19.0</td>\n",
       "      <td>20.440000</td>\n",
       "      <td>20.546166</td>\n",
       "      <td>21.014329</td>\n",
       "      <td>19.871465</td>\n",
       "    </tr>\n",
       "    <tr>\n",
       "      <th>12629</th>\n",
       "      <td>21.0</td>\n",
       "      <td>19.709188</td>\n",
       "      <td>20.020975</td>\n",
       "      <td>20.073227</td>\n",
       "      <td>20.127563</td>\n",
       "      <td>20.0</td>\n",
       "      <td>19.463333</td>\n",
       "      <td>19.931183</td>\n",
       "      <td>20.190006</td>\n",
       "      <td>19.803579</td>\n",
       "    </tr>\n",
       "  </tbody>\n",
       "</table>\n",
       "<p>12630 rows × 10 columns</p>\n",
       "</div>"
      ],
      "text/plain": [
       "       target     voting   adaboost    bagging  linearreg  decisiontree  \\\n",
       "0        43.0  24.301164  31.973117  27.734293  27.703491          19.0   \n",
       "1        22.0  17.989172  20.020975  19.882016  19.767517          14.0   \n",
       "2        22.0  19.629237  19.898690  19.906281  19.887711          19.0   \n",
       "3        23.0  21.102065  20.003313  20.471655  20.506195          22.0   \n",
       "4        42.0  29.924422  37.739520  28.010248  27.973267          25.0   \n",
       "...       ...        ...        ...        ...        ...           ...   \n",
       "12625    23.0  19.618307  19.926468  19.556693  19.654922          21.0   \n",
       "12626    20.0  21.671474  20.020975  21.463165  21.814423          22.0   \n",
       "12627    21.0  19.077591  19.967421  20.217288  20.232773          17.0   \n",
       "12628    22.0  20.497418  20.020975  21.177112  21.092255          19.0   \n",
       "12629    21.0  19.709188  20.020975  20.073227  20.127563          20.0   \n",
       "\n",
       "       randomforest  gradientboosting        sgd   voting_2  \n",
       "0         28.645833         28.352181  27.674764  25.432509  \n",
       "1         18.290000         19.757886  19.869650  17.230246  \n",
       "2         20.290000         19.517610  19.892993  19.510726  \n",
       "3         21.660000         20.450311  20.461385  21.291465  \n",
       "4         34.280000         28.701936  27.884804  33.634392  \n",
       "...             ...               ...        ...        ...  \n",
       "12625     19.800000         19.636931  19.678880  20.244067  \n",
       "12626     20.400000         20.494243  20.678643  21.134799  \n",
       "12627     19.240000         19.936177  20.310592  18.691465  \n",
       "12628     20.440000         20.546166  21.014329  19.871465  \n",
       "12629     19.463333         19.931183  20.190006  19.803579  \n",
       "\n",
       "[12630 rows x 10 columns]"
      ]
     },
     "execution_count": 2,
     "metadata": {},
     "output_type": "execute_result"
    }
   ],
   "source": [
    "df_pred=pd.read_csv('res.csv')\n",
    "df_pred"
   ]
  },
  {
   "cell_type": "code",
   "execution_count": null,
   "metadata": {},
   "outputs": [
    {
     "data": {
      "text/html": [
       "<div>\n",
       "<style scoped>\n",
       "    .dataframe tbody tr th:only-of-type {\n",
       "        vertical-align: middle;\n",
       "    }\n",
       "\n",
       "    .dataframe tbody tr th {\n",
       "        vertical-align: top;\n",
       "    }\n",
       "\n",
       "    .dataframe thead th {\n",
       "        text-align: right;\n",
       "    }\n",
       "</style>\n",
       "<table border=\"1\" class=\"dataframe\">\n",
       "  <thead>\n",
       "    <tr style=\"text-align: right;\">\n",
       "      <th></th>\n",
       "      <th>target</th>\n",
       "      <th>voting</th>\n",
       "      <th>adaboost</th>\n",
       "      <th>bagging</th>\n",
       "      <th>linearreg</th>\n",
       "      <th>decisiontree</th>\n",
       "      <th>randomforest</th>\n",
       "      <th>gradientboosting</th>\n",
       "      <th>sgd</th>\n",
       "      <th>voting_2</th>\n",
       "    </tr>\n",
       "  </thead>\n",
       "  <tbody>\n",
       "    <tr>\n",
       "      <th>count</th>\n",
       "      <td>12630.000000</td>\n",
       "      <td>12630.000000</td>\n",
       "      <td>12630.000000</td>\n",
       "      <td>12630.000000</td>\n",
       "      <td>12630.000000</td>\n",
       "      <td>12630.000000</td>\n",
       "      <td>12630.000000</td>\n",
       "      <td>12630.000000</td>\n",
       "      <td>12630.000000</td>\n",
       "      <td>12630.000000</td>\n",
       "    </tr>\n",
       "    <tr>\n",
       "      <th>mean</th>\n",
       "      <td>21.065400</td>\n",
       "      <td>21.051179</td>\n",
       "      <td>21.991927</td>\n",
       "      <td>21.055228</td>\n",
       "      <td>21.050612</td>\n",
       "      <td>21.065571</td>\n",
       "      <td>21.092532</td>\n",
       "      <td>21.044188</td>\n",
       "      <td>21.116441</td>\n",
       "      <td>21.382302</td>\n",
       "    </tr>\n",
       "    <tr>\n",
       "      <th>std</th>\n",
       "      <td>5.709395</td>\n",
       "      <td>3.480524</td>\n",
       "      <td>4.394125</td>\n",
       "      <td>2.925972</td>\n",
       "      <td>2.909096</td>\n",
       "      <td>5.580738</td>\n",
       "      <td>3.576270</td>\n",
       "      <td>2.940971</td>\n",
       "      <td>2.849167</td>\n",
       "      <td>4.009349</td>\n",
       "    </tr>\n",
       "    <tr>\n",
       "      <th>min</th>\n",
       "      <td>12.000000</td>\n",
       "      <td>14.593368</td>\n",
       "      <td>19.256430</td>\n",
       "      <td>9.203500</td>\n",
       "      <td>9.365845</td>\n",
       "      <td>12.000000</td>\n",
       "      <td>14.780000</td>\n",
       "      <td>17.048470</td>\n",
       "      <td>9.595888</td>\n",
       "      <td>15.759243</td>\n",
       "    </tr>\n",
       "    <tr>\n",
       "      <th>25%</th>\n",
       "      <td>18.000000</td>\n",
       "      <td>19.006552</td>\n",
       "      <td>19.898690</td>\n",
       "      <td>19.463217</td>\n",
       "      <td>19.464100</td>\n",
       "      <td>18.000000</td>\n",
       "      <td>19.110000</td>\n",
       "      <td>19.537864</td>\n",
       "      <td>19.573305</td>\n",
       "      <td>19.042775</td>\n",
       "    </tr>\n",
       "    <tr>\n",
       "      <th>50%</th>\n",
       "      <td>20.000000</td>\n",
       "      <td>20.097339</td>\n",
       "      <td>20.020975</td>\n",
       "      <td>20.010036</td>\n",
       "      <td>20.000259</td>\n",
       "      <td>20.000000</td>\n",
       "      <td>19.970000</td>\n",
       "      <td>19.914894</td>\n",
       "      <td>20.075146</td>\n",
       "      <td>20.114429</td>\n",
       "    </tr>\n",
       "    <tr>\n",
       "      <th>75%</th>\n",
       "      <td>22.000000</td>\n",
       "      <td>21.528701</td>\n",
       "      <td>20.020975</td>\n",
       "      <td>20.666766</td>\n",
       "      <td>20.642441</td>\n",
       "      <td>23.000000</td>\n",
       "      <td>21.230000</td>\n",
       "      <td>20.222811</td>\n",
       "      <td>20.681390</td>\n",
       "      <td>21.644060</td>\n",
       "    </tr>\n",
       "    <tr>\n",
       "      <th>max</th>\n",
       "      <td>170.000000</td>\n",
       "      <td>51.918077</td>\n",
       "      <td>60.829025</td>\n",
       "      <td>29.112448</td>\n",
       "      <td>28.951599</td>\n",
       "      <td>86.000000</td>\n",
       "      <td>52.470000</td>\n",
       "      <td>32.907937</td>\n",
       "      <td>29.909076</td>\n",
       "      <td>71.966514</td>\n",
       "    </tr>\n",
       "  </tbody>\n",
       "</table>\n",
       "</div>"
      ],
      "text/plain": [
       "             target        voting      adaboost       bagging     linearreg  \\\n",
       "count  12630.000000  12630.000000  12630.000000  12630.000000  12630.000000   \n",
       "mean      21.065400     21.051179     21.991927     21.055228     21.050612   \n",
       "std        5.709395      3.480524      4.394125      2.925972      2.909096   \n",
       "min       12.000000     14.593368     19.256430      9.203500      9.365845   \n",
       "25%       18.000000     19.006552     19.898690     19.463217     19.464100   \n",
       "50%       20.000000     20.097339     20.020975     20.010036     20.000259   \n",
       "75%       22.000000     21.528701     20.020975     20.666766     20.642441   \n",
       "max      170.000000     51.918077     60.829025     29.112448     28.951599   \n",
       "\n",
       "       decisiontree  randomforest  gradientboosting           sgd  \\\n",
       "count  12630.000000  12630.000000      12630.000000  12630.000000   \n",
       "mean      21.065571     21.092532         21.044188     21.116441   \n",
       "std        5.580738      3.576270          2.940971      2.849167   \n",
       "min       12.000000     14.780000         17.048470      9.595888   \n",
       "25%       18.000000     19.110000         19.537864     19.573305   \n",
       "50%       20.000000     19.970000         19.914894     20.075146   \n",
       "75%       23.000000     21.230000         20.222811     20.681390   \n",
       "max       86.000000     52.470000         32.907937     29.909076   \n",
       "\n",
       "           voting_2  \n",
       "count  12630.000000  \n",
       "mean      21.382302  \n",
       "std        4.009349  \n",
       "min       15.759243  \n",
       "25%       19.042775  \n",
       "50%       20.114429  \n",
       "75%       21.644060  \n",
       "max       71.966514  "
      ]
     },
     "execution_count": 3,
     "metadata": {},
     "output_type": "execute_result"
    }
   ],
   "source": [
    "df_pred.describe()"
   ]
  },
  {
   "cell_type": "code",
   "execution_count": null,
   "metadata": {},
   "outputs": [
    {
     "data": {
      "text/plain": [
       "<Axes: >"
      ]
     },
     "execution_count": 4,
     "metadata": {},
     "output_type": "execute_result"
    },
    {
     "data": {
      "image/png": "[encoded data removed]",
      "text/plain": [
       "<Figure size 1500x800 with 1 Axes>"
      ]
     },
     "metadata": {},
     "output_type": "display_data"
    }
   ],
   "source": [
    "df_pred.boxplot(figsize=(15,8))"
   ]
  }
 ],
 "metadata": {
  "kernelspec": {
   "display_name": ".dev",
   "language": "python",
   "name": "python3"
  },
  "language_info": {
   "codemirror_mode": {
    "name": "ipython",
    "version": 3
   },
   "file_extension": ".py",
   "mimetype": "text/x-python",
   "name": "python",
   "nbconvert_exporter": "python",
   "pygments_lexer": "ipython3",
   "version": "3.8.6"
  },
  "orig_nbformat": 4
 },
 "nbformat": 4,
 "nbformat_minor": 2
}
